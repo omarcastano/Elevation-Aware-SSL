{
    "cells": [
        {
            "cell_type": "code",
            "execution_count": null,
            "metadata": {
                "colab": {
                    "base_uri": "https://localhost:8080/"
                },
                "executionInfo": {
                    "elapsed": 9539,
                    "status": "ok",
                    "timestamp": 1659757377259,
                    "user": {
                        "displayName": "Omar Andres Castaño",
                        "userId": "15147820125606867511"
                    },
                    "user_tz": 300
                },
                "id": "fqXKLyoh6f4Y",
                "outputId": "358aad58-b891-42ea-b160-25b93f78004a"
            },
            "outputs": [],
            "source": [
                "from elevation_aware_ssl.classification import wandb_utils\n",
                "import plotly.express as px\n",
                "\n",
                "import wandb\n",
                "wandb.login(key=\"wandb_key\")"
            ]
        },
        {
            "cell_type": "code",
            "execution_count": null,
            "metadata": {},
            "outputs": [],
            "source": [
                "select_classes = [\"non_agricultural\", \"agricultural_frontier\"]"
            ]
        },
        {
            "cell_type": "code",
            "execution_count": null,
            "metadata": {},
            "outputs": [],
            "source": [
                "project = \"Regression-2_classes\"\n",
                "entity = \"omar-c\"\n",
                "name = \"report\"\n",
                "version = [\"RandomInit\", \"SimCLR\", \"Elevation+SimCLR\",\"Elevation\"]\n",
                "train_size = [80, 100, 200, 500, 1000, 2000, 3000]\n",
                "\n",
                "\n",
                "bar_plots = {}\n",
                "for metric in [\"test_total_loss\"]:#[\"Recall\", \"Precision\", \"F1_score\", \"Acc_by_Class\", \"test_total_loss\"]:\n",
                "    plot = wandb_utils.lineplot_metrics_from_wandb(\n",
                "        project=project,\n",
                "        entity=entity,\n",
                "        version=list(set(version)),\n",
                "        train_size=list(set(train_size)),\n",
                "        metric=f\"{metric}\",\n",
                "        replace ={\"SimCLR-v2\": \"SimCLR\", \"Elevation+SimCLR-v2\": \"Elevation+SimCLR\", \"RandomInit-v2\":\"RandomInit\"},\n",
                "    )\n",
                "\n",
                "    bar_plots.update({metric: plot})"
            ]
        },
        {
            "cell_type": "code",
            "execution_count": null,
            "metadata": {},
            "outputs": [],
            "source": [
                "fig = bar_plots[\"test_total_loss\"]\n",
                "fig.update_layout(width=1200, height = 500)"
            ]
        },
        {
            "cell_type": "code",
            "execution_count": null,
            "metadata": {},
            "outputs": [],
            "source": [
                "def standar_report(project, entity, name, version, train_size, replace={}):\n",
                "\n",
                "    bar_plots = {}\n",
                "    for metric in [\"F1_score\"]:\n",
                "        plot = wandb_utils.barplot_metrics_from_wandb(\n",
                "            project=project,\n",
                "            entity=entity,\n",
                "            version=list(set(version)),\n",
                "            train_size=list(set(train_size)),\n",
                "            metric=f\"{metric}\",\n",
                "        )\n",
                "\n",
                "        bar_plots.update({metric: plot})\n",
                "\n",
                "    line_plots = {}\n",
                "    for metric in [\"F1_score\"]:  # [\"Recall\", \"Precision\", \"F1_score\", \"Acc_by_Class\"]:\n",
                "        plot = wandb_utils.lineplot_metrics_from_wandb(\n",
                "            project=project,\n",
                "            entity=entity,\n",
                "            version=list(set(version)),\n",
                "            train_size=list(set(train_size)),\n",
                "            metric=f\"{metric}\",\n",
                "            replace=replace,\n",
                "        )\n",
                "\n",
                "        line_plots.update({metric: plot})\n",
                "\n",
                "    # table = wandb_utils.get_table(\n",
                "    #     project=project,\n",
                "    #     entity=entity,\n",
                "    #     version=version,\n",
                "    #     train_size=train_size,\n",
                "    # )\n",
                "\n",
                "    # pr_curve = {}\n",
                "    # for label in select_classes:\n",
                "\n",
                "    #    plot = wandb_utils.plot_pr_curve(table.query(f\"label=='{label}'\"), color=\"train_size\", line_dash=\"version\")\n",
                "\n",
                "    #    pr_curve.update({label: plot})\n",
                "\n",
                "    # loss_table = wandb_utils.get_table(\n",
                "    #    wandb,\n",
                "    #    project=project,\n",
                "    #    entity=entity,\n",
                "    #    version=version,\n",
                "    #    train_size=train_size,\n",
                "    #    table_name=\"Loss\",\n",
                "    # )\n",
                "\n",
                "    # loss_plot = wandb_utils.plot_loss_curves(loss_table, color=\"train_size\", line_dash=\"version\")\n",
                "\n",
                "    with wandb.init(\n",
                "        project=\"REPORT\",\n",
                "        entity=entity,\n",
                "        config={\"version\": name, \"train_size\": None},\n",
                "        name=name,\n",
                "        resume=False,\n",
                "        id=None,\n",
                "    ) as run:\n",
                "\n",
                "        # run.log({\"Label Distribution\": px.histogram(metadata, x=\"Classes\", histnorm=\"percent\")})\n",
                "        [run.log({f\"{name} Bareplot {metric}\": plot}) for metric, plot in bar_plots.items()]\n",
                "        [run.log({f\"{name} Lineplot {metric}\": plot}) for metric, plot in line_plots.items()]\n",
                "        # [run.log({f\"{name} PR Curve {label}\": plot}) for label, plot in pr_curve.items()]\n",
                "        # run.log({\"Loss Plots\": loss_plot})"
            ]
        },
        {
            "cell_type": "code",
            "execution_count": null,
            "metadata": {},
            "outputs": [],
            "source": [
                "standar_report(\n",
                "    project=\"CLF-2_classes\",\n",
                "    entity=\"omar-c\",\n",
                "    name=\"CLF\",\n",
                "    version=[\"RandomInit-v2\"] * 7 + [\"SimCLR-v2\"] * 7 + [\"Elevation+SimCLR-v2\"] * 7 + [\"Elevation\"] * 7,\n",
                "    train_size=[80, 100, 200, 500, 1000, 2000, 3000] * 4,\n",
                "    replace={\"SimCLR-v2\": \"SimCLR\", \"Elevation+SimCLR-v2\": \"Elevation+SimCLR\", \"RandomInit-v2\": \"RandomInit\"},\n",
                ")"
            ]
        },
        {
            "cell_type": "code",
            "execution_count": null,
            "metadata": {},
            "outputs": [],
            "source": [
                "standar_report(\n",
                "    project=\"Segmentation-2_classes\",  # \"Segmenation-2_classes\",\n",
                "    entity=\"omar-c\",\n",
                "    name=\"Segmentation-SimCLR\",\n",
                "    version=[\"RandomInit\"] * 7 + [\"SimCLR-v2\"] * 7 + [\"Elevation+SimCLR-v2\"] * 7,\n",
                "    train_size=[80, 100, 200, 500, 1000, 2000, 3000] * 3,\n",
                ")"
            ]
        },
        {
            "cell_type": "code",
            "execution_count": null,
            "metadata": {},
            "outputs": [],
            "source": [
                "standar_report(\n",
                "    project=\"Segmentation-2_classes\",  # \"Segmenation-2_classes\",\n",
                "    entity=\"omar-c\",\n",
                "    name=\"Segmentation-GLCNet\",\n",
                "    version=[\"RandomInit\"] * 7 + [\"GLCNet\"] * 7 + [\"Elevation+GLCNet\"] * 7 + [\"Elevation\"] * 7,\n",
                "    train_size=[80, 100, 200, 500, 1000, 2000, 3000] * 4,\n",
                ")"
            ]
        },
        {
            "cell_type": "code",
            "execution_count": null,
            "metadata": {},
            "outputs": [],
            "source": []
        }
    ],
    "metadata": {
        "colab": {
            "authorship_tag": "ABX9TyNcvxGkZwNi8IQiaDJy5Xu0",
            "name": "Ablation_study.ipynb",
            "provenance": []
        },
        "kernelspec": {
            "display_name": "elevation_aware_ssl",
            "language": "python",
            "name": "python3"
        },
        "language_info": {
            "codemirror_mode": {
                "name": "ipython",
                "version": 3
            },
            "file_extension": ".py",
            "mimetype": "text/x-python",
            "name": "python",
            "nbconvert_exporter": "python",
            "pygments_lexer": "ipython3",
            "version": "3.7.13"
        },
        "vscode": {
            "interpreter": {
                "hash": "81ba9a1503424c443a7bc1e1bbe8d83e046e09a72ec9317cd76d572ac910684c"
            }
        }
    },
    "nbformat": 4,
    "nbformat_minor": 0
}
