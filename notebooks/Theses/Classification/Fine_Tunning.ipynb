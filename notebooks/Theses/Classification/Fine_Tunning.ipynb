{
    "cells": [
        {
            "cell_type": "code",
            "execution_count": null,
            "metadata": {},
            "outputs": [],
            "source": [
                "import os\n",
                "import pandas as pd\n",
                "\n",
                "from elevation_aware_ssl.classification.dataset import CustomDataset\n",
                "from elevation_aware_ssl.classification.utils import visualize_augmented_images, generate_metadata_train_test_stratified_cv\n",
                "from elevation_aware_ssl.trainer import Trainer\n",
                "from sklearn.model_selection import train_test_split\n",
                "\n",
                "# import wandB\n",
                "import wandb\n",
                "\n",
                "# wandb.login(key=\"wandb_key\")\n",
                "wandb.login(key=\"wandb_key\")\n",
                "os.environ[\"WANDB_SILENT\"] = \"true\""
            ]
        },
        {
            "cell_type": "code",
            "execution_count": null,
            "metadata": {
                "executionInfo": {
                    "elapsed": 9,
                    "status": "ok",
                    "timestamp": 1665448480421,
                    "user": {
                        "displayName": "Omar Andres Castaño",
                        "userId": "15147820125606867511"
                    },
                    "user_tz": 300
                },
                "id": "9lzh8LRx9R7-"
            },
            "outputs": [],
            "source": [
                "drive_path = '/content/drive/MyDrive' \n",
                "drive_path = \"/media/omar/storage/gdrive\""
            ]
        },
        {
            "cell_type": "code",
            "execution_count": null,
            "metadata": {},
            "outputs": [],
            "source": [
                "query = [\n",
                "    \"((legal_exclusions == 0) and (non_agricultural == 1) and (agricultural_frontier == 0)) \"\n",
                "    \"| ((legal_exclusions == 0) and (non_agricultural == 0) and (agricultural_frontier == 1))\"\n",
                "]\n",
                "# \"| ((legal_exclusions == 1) and (non_agricultural == 0) and (agricultural_frontier == 0))\"]"
            ]
        },
        {
            "cell_type": "code",
            "execution_count": null,
            "metadata": {},
            "outputs": [],
            "source": [
                "select_classes = [\"non_agricultural\", \"agricultural_frontier\"]  # [\"non_agricultural\", \"legal_exclusions\", \"agricultural_frontier\"] #"
            ]
        },
        {
            "cell_type": "code",
            "execution_count": null,
            "metadata": {
                "colab": {
                    "base_uri": "https://localhost:8080/",
                    "height": 224
                },
                "executionInfo": {
                    "elapsed": 984,
                    "status": "ok",
                    "timestamp": 1665448481396,
                    "user": {
                        "displayName": "Omar Andres Castaño",
                        "userId": "15147820125606867511"
                    },
                    "user_tz": 300
                },
                "id": "fhz6dtPMGah5",
                "outputId": "1856bc96-5361-42fd-bbce-a8e9259b2bcc"
            },
            "outputs": [],
            "source": [
                "# Load metadata\n",
                "path_to_metadata = f\"{drive_path}/Maestria/Datasets/GeoDataset/metadata_v2/metadata.csv\"\n",
                "metadata = pd.read_csv(path_to_metadata).sample(frac=0.7, random_state=42)\n",
                "metadata = metadata.query(query[0])\n",
                "metadata[\"Classes\"] = metadata[select_classes].idxmax(axis=1)\n",
                "metadata[\"Labels\"] = metadata.Classes.map({k:i for i, k in enumerate(select_classes)})\n",
                "\n",
                "print(metadata.shape)\n",
                "metadata.head()"
            ]
        },
        {
            "cell_type": "code",
            "execution_count": null,
            "metadata": {},
            "outputs": [],
            "source": [
                "#path to image and masks\n",
                "path_to_images = f'{drive_path}/Maestria/Datasets/GeoDataset/Dataset/'"
            ]
        },
        {
            "cell_type": "code",
            "execution_count": null,
            "metadata": {},
            "outputs": [],
            "source": [
                "augment = {\n",
                "    \"horizontal_flip_prob\": 0.5,\n",
                "    \"vertical_flip_prob\": 0.5,\n",
                "    \"resize_scale\": (0.8, 1.0),\n",
                "    \"resize_prob\": 1.0,\n",
                "    \"brightness\": 0.4,\n",
                "    \"contrast\": 0.4,\n",
                "    \"saturation\": 0.4,\n",
                "    \"hue\": 0.2,\n",
                "    \"color_jitter_prob\": 0.5,\n",
                "    \"gray_scale_prob\": 0.2,\n",
                "}\n",
                "\n",
                "ds = CustomDataset(path_to_images, metadata.sample(10), return_original=True, augment=augment)\n",
                "visualize_augmented_images(ds, class_names=select_classes, brightness=0.0)"
            ]
        },
        {
            "cell_type": "code",
            "execution_count": null,
            "metadata": {},
            "outputs": [],
            "source": [
                "path_to_save_model = f\"{drive_path}/Maestria/Theses/pruebas/models/resnet18\""
            ]
        },
        {
            "cell_type": "code",
            "execution_count": null,
            "metadata": {},
            "outputs": [],
            "source": [
                "metadata_train, metadata_test, metadata_valid = generate_metadata_train_test_stratified_cv(metadata, train_size=10, n_split=4)"
            ]
        },
        {
            "cell_type": "code",
            "execution_count": null,
            "metadata": {},
            "outputs": [],
            "source": [
                "path_to_save_model = f\"{drive_path}Maestria/pruebas/models/resnet18\"\n",
                "path_to_load_backbone_simclr = f\"{drive_path}Maestria/Theses/SSL/SimCLR/models/resnet18/model_SSL-SimCLR-v2.pth\"\n",
                "path_to_load_backbone_elevation_simclr = f\"{drive_path}Maestria/Theses/SSL/ElevationSSL/models/resnet18/Elevation-SimCLR/model_SimCLR-Elevation.pth\"\n",
                "path_to_load_backbone_elevation = f\"{drive_path}Maestria/Theses/SSL/ElevationSSL/models/resnet18/Elevation/model_Elevation.pth\""
            ]
        },
        {
            "cell_type": "code",
            "execution_count": null,
            "metadata": {},
            "outputs": [],
            "source": [
                "augment = {\n",
                "    \"horizontal_flip_prob\": 0.5,\n",
                "    \"vertical_flip_prob\": 0.5,\n",
                "    \"resize_scale\": (0.8, 1.0),\n",
                "    \"resize_prob\": 1.0,\n",
                "    \"brightness\": 0.1,\n",
                "    \"contrast\": 0.1,\n",
                "    \"saturation\": 0.1,\n",
                "    \"hue\": 0.1,\n",
                "    \"color_jitter_prob\": 0.2,\n",
                "    \"gray_scale_prob\": 0.2,\n",
                "}"
            ]
        },
        {
            "cell_type": "code",
            "execution_count": null,
            "metadata": {},
            "outputs": [],
            "source": [
                "def run_experiment(\n",
                "    train_size,\n",
                "    epochs,\n",
                "    pretrained=False,\n",
                "    version=\"RandomInit\",\n",
                "    path_to_load_backbone=None,\n",
                "    fine_tune=False,\n",
                "    ft_epoch=30,\n",
                "    project=\"CLF-2_classes\",\n",
                "    train_batch_size=8,\n",
                "):\n",
                "\n",
                "    metadata_train, metadata_test, metadata_valid = generate_metadata_train_test_stratified_cv(metadata, train_size=train_size, n_split=5)\n",
                "\n",
                "    hypm_kwargs = {\n",
                "        \"version\": version,\n",
                "        \"model_name\": \"Classifier\",\n",
                "        \"amount_of_ft_data\": metadata_train[1].shape[0],\n",
                "        \"backbone\": \"resnet18\",\n",
                "        \"pretrained\": pretrained,\n",
                "        \"fine_tune\": fine_tune,\n",
                "        \"ft_epoch\": ft_epoch,\n",
                "        \"ft_lr\": 0.000005,\n",
                "        \"in_channels\": 3,\n",
                "        \"num_classes\": 2,\n",
                "        \"class_names\": select_classes,\n",
                "        \"normalizing_factor\": 6000,\n",
                "        \"weight_decay\": 0.00005,\n",
                "        \"learning_rate\": 1e-3,\n",
                "        \"train_batch_size\": train_batch_size,\n",
                "        \"test_batch_size\": 128,\n",
                "        \"epochs\": epochs,\n",
                "        \"augment_train\": augment,\n",
                "        \"augment_test\": None,\n",
                "        \"patient\": 10,\n",
                "        \"eval_epoch\": 1,\n",
                "    }\n",
                "\n",
                "    wandb_kwargs = {\n",
                "        \"project\": \"CLF-2_classes\",\n",
                "        \"entity\": \"omar-c\",\n",
                "        \"id\": None,\n",
                "        \"name\": version,\n",
                "        \"resume\": False,\n",
                "    }\n",
                "\n",
                "    for train, test, valid in zip(metadata_train, metadata_test, metadata_valid):\n",
                "        metadata_kwargs = {\n",
                "            \"path_to_images\": path_to_images,\n",
                "            \"path_to_save_model\": None,  # path_to_save_model,  # Path to save the model that is being trained (do not include the extension .pt or .pth)\n",
                "            \"path_to_load_model\": None,  # Path to load a model from a checkpoint (useful to handle notebook disconection)\n",
                "            \"path_to_load_backbone\": path_to_load_backbone,\n",
                "            \"metadata_train\": train,\n",
                "            \"metadata_test\": test,\n",
                "            \"metadata_valid\": valid,\n",
                "            \"num_workers\": 6,\n",
                "            \"device\": \"cuda\",\n",
                "        }\n",
                "        trainer = Trainer(CustomDataset, visualize_augmented_images, wandb_kwargs, hypm_kwargs, metadata_kwargs)\n",
                "        trainer.configure_trainer()\n",
                "\n",
                "        trainer.fit()"
            ]
        },
        {
            "cell_type": "code",
            "execution_count": null,
            "metadata": {},
            "outputs": [],
            "source": [
                "run_experiment(\n",
                "    train_size=i,\n",
                "    epochs=100,\n",
                "    pretrained=True,\n",
                "    version=\"Elevation+SimCLR\",\n",
                "    path_to_load_backbone=path_to_load_backbone_elevation_simclr,\n",
                "    fine_tune=True,\n",
                "    ft_epoch=10,\n",
                "    train_batch_size=5)"
            ]
        }
    ],
    "metadata": {
        "kernelspec": {
            "display_name": "Python 3.7.13 64-bit ('elevation_aware_ssl')",
            "language": "python",
            "name": "python3"
        },
        "language_info": {
            "codemirror_mode": {
                "name": "ipython",
                "version": 3
            },
            "file_extension": ".py",
            "mimetype": "text/x-python",
            "name": "python",
            "nbconvert_exporter": "python",
            "pygments_lexer": "ipython3",
            "version": "3.9.0"
        },
        "orig_nbformat": 4,
        "vscode": {
            "interpreter": {
                "hash": "81ba9a1503424c443a7bc1e1bbe8d83e046e09a72ec9317cd76d572ac910684c"
            }
        }
    },
    "nbformat": 4,
    "nbformat_minor": 2
}
