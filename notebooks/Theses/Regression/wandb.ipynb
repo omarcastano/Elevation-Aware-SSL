{
    "cells": [
        {
            "cell_type": "code",
            "execution_count": null,
            "metadata": {
                "colab": {
                    "base_uri": "https://localhost:8080/"
                },
                "executionInfo": {
                    "elapsed": 9539,
                    "status": "ok",
                    "timestamp": 1659757377259,
                    "user": {
                        "displayName": "Omar Andres Castaño",
                        "userId": "15147820125606867511"
                    },
                    "user_tz": 300
                },
                "id": "fqXKLyoh6f4Y",
                "outputId": "358aad58-b891-42ea-b160-25b93f78004a"
            },
            "outputs": [],
            "source": [
                "# Cofiguration\n",
                "# from elevation_aware_ssl.core import config\n",
                "# config.config_notebook(False)\n",
                "\n",
                "# Load libraries\n",
                "from typing import List, Callable, Union, Tuple\n",
                "import multiprocessing as mp\n",
                "import geopandas as gpd\n",
                "import matplotlib.pyplot as plt\n",
                "import plotly.express as px\n",
                "import pandas as pd\n",
                "import os\n",
                "import matplotlib.patches as mpatches\n",
                "import numpy as np\n",
                "import torch\n",
                "from tqdm.autonotebook import tqdm\n",
                "\n",
                "# custom libary\n",
                "import elevation_aware_ssl.preprocessing as DP\n",
                "from elevation_aware_ssl.EDA import image_label_sanity_check\n",
                "from elevation_aware_ssl import EDA\n",
                "from elevation_aware_ssl.regression.metrics import utils\n",
                "\n",
                "# from elevation_aware_ssl.utils import metrics, simclr, data_for_seg\n",
                "# from elevation_aware_ssl.utils import data_for_seg\n",
                "\n",
                "import wandb\n",
                "wandb.login(key=\"wandb_key\")"
            ]
        },
        {
            "cell_type": "code",
            "execution_count": null,
            "metadata": {
                "executionInfo": {
                    "elapsed": 18,
                    "status": "ok",
                    "timestamp": 1659757377260,
                    "user": {
                        "displayName": "Omar Andres Castaño",
                        "userId": "15147820125606867511"
                    },
                    "user_tz": 300
                },
                "id": "9lzh8LRx9R7-"
            },
            "outputs": [],
            "source": [
                "drive_path = \"/media/omar/storage/gdrive\""
            ]
        },
        {
            "cell_type": "code",
            "execution_count": null,
            "metadata": {},
            "outputs": [],
            "source": [
                "path_to_label = f\"{drive_path}/Maestria/Datasets/GeoDataset/\" \n",
                "select_classes = ['non_agricultural_area', 'legal_exclusions', 'agricultural_frontier']"
            ]
        },
        {
            "cell_type": "code",
            "execution_count": null,
            "metadata": {
                "colab": {
                    "base_uri": "https://localhost:8080/",
                    "height": 224
                },
                "executionInfo": {
                    "elapsed": 1612,
                    "status": "ok",
                    "timestamp": 1659758036266,
                    "user": {
                        "displayName": "Omar Andres Castaño",
                        "userId": "15147820125606867511"
                    },
                    "user_tz": 300
                },
                "id": "fhz6dtPMGah5",
                "outputId": "fc1287bf-c624-4a33-99c9-1791a191a0c0"
            },
            "outputs": [],
            "source": [
                "#Load metadata\n",
                "path_to_metadata =  f'{drive_path}/Maestria/Datasets/GeoDataset/metadata/metadata_binary.csv'\n",
                "metadata = pd.read_csv(path_to_metadata).sample(frac=1, random_state=42)\n",
                "print(metadata.shape)\n",
                "metadata.head()"
            ]
        },
        {
            "cell_type": "code",
            "execution_count": null,
            "metadata": {},
            "outputs": [],
            "source": [
                "project = \"Regression\"\n",
                "entity = \"omar_castano\"\n",
                "name = \"report_glcnet\"\n",
                "version = [\n",
                "    \"RandomInit\",\n",
                "    \"RandomInit\",\n",
                "    \"RandomInit\",\n",
                "    \"SimCLR\",\n",
                "    \"SimCLR\",\n",
                "    \"SimCLR\",\n",
                "]\n",
                "train_size = [\n",
                "    0.005,\n",
                "    0.01,\n",
                "    0.05,\n",
                "    0.005,\n",
                "    0.01,\n",
                "    0.05,\n",
                "]\n",
                "\n",
                "\n",
                "bar_plots = {}\n",
                "for metric in [\"test_RMSE\"]:\n",
                "    plot = utils.barplot_metrics_from_wandb(\n",
                "        wandb,\n",
                "        project=project,\n",
                "        entity=entity,\n",
                "        version=list(set(version)),\n",
                "        train_size=list(set(train_size)),\n",
                "        metric=f\"{metric}\",\n",
                "    )\n",
                "\n",
                "    bar_plots.update({metric: plot})"
            ]
        },
        {
            "cell_type": "code",
            "execution_count": null,
            "metadata": {},
            "outputs": [],
            "source": [
                "bar_plots[\"test_RMSE\"]"
            ]
        },
        {
            "cell_type": "code",
            "execution_count": null,
            "metadata": {},
            "outputs": [],
            "source": [
                "def standar_report(wandb, project, entity, name, version, train_size):\n",
                "\n",
                "    bar_plots = {}\n",
                "    for metric in [\"test_RMSE\"]:\n",
                "        plot = utils.barplot_metrics_from_wandb(\n",
                "            wandb,\n",
                "            project=project,\n",
                "            entity=entity,\n",
                "            version=list(set(version)),\n",
                "            train_size=list(set(train_size)),\n",
                "            metric=f\"{metric}\",\n",
                "        )\n",
                "\n",
                "        bar_plots.update({metric: plot})\n",
                "\n",
                "   \n",
                "    loss_table = utils.get_table(\n",
                "        wandb,\n",
                "        project=project,\n",
                "        entity=entity,\n",
                "        version=version,\n",
                "        train_size=train_size,\n",
                "        table_name=\"Loss\",\n",
                "    )\n",
                "\n",
                "    loss_plot = utils.plot_loss_curves(loss_table, color=\"train_size\", line_dash=\"version\")\n",
                "\n",
                "    with wandb.init(\n",
                "        project=project,\n",
                "        entity=entity,\n",
                "        config={\"version\": \"report\", \"train_size\": None},\n",
                "        name=name,\n",
                "    ) as run:\n",
                "\n",
                "        [run.log({f\"Bareplot {metric}\": plot}) for metric, plot in bar_plots.items()]\n",
                "        run.log({\"Loss Plots\": loss_plot})"
            ]
        },
        {
            "cell_type": "code",
            "execution_count": null,
            "metadata": {},
            "outputs": [],
            "source": [
                "standar_report(\n",
                "    wandb,\n",
                "    project=\"Regression\",\n",
                "    entity=\"omar_castano\",\n",
                "    name=\"report\",\n",
                "    version=[\n",
                "        \"RandomInit\",\n",
                "        \"RandomInit\",\n",
                "        \"RandomInit\",\n",
                "        # \"RandomInit\",\n",
                "        \"SimCLR\",\n",
                "        \"SimCLR\",\n",
                "        \"SimCLR\",\n",
                "        # \"SimCLR\",\n",
                "    ],\n",
                "    train_size=[\n",
                "        0.005,\n",
                "        0.01,\n",
                "        0.05,\n",
                "        # 0.1,\n",
                "        0.005,\n",
                "        0.01,\n",
                "        0.05,\n",
                "        # 0.1,\n",
                "    ],\n",
                ")"
            ]
        }
    ],
    "metadata": {
        "colab": {
            "authorship_tag": "ABX9TyNcvxGkZwNi8IQiaDJy5Xu0",
            "name": "Ablation_study.ipynb",
            "provenance": []
        },
        "kernelspec": {
            "display_name": "Python 3.7.13 64-bit ('elevation_aware_ssl')",
            "language": "python",
            "name": "python3"
        },
        "language_info": {
            "codemirror_mode": {
                "name": "ipython",
                "version": 3
            },
            "file_extension": ".py",
            "mimetype": "text/x-python",
            "name": "python",
            "nbconvert_exporter": "python",
            "pygments_lexer": "ipython3",
            "version": "3.7.13"
        },
        "vscode": {
            "interpreter": {
                "hash": "81ba9a1503424c443a7bc1e1bbe8d83e046e09a72ec9317cd76d572ac910684c"
            }
        }
    },
    "nbformat": 4,
    "nbformat_minor": 0
}
