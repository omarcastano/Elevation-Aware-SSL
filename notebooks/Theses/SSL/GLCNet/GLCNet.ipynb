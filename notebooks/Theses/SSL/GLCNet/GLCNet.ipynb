{
 "cells": [
  {
   "cell_type": "code",
   "execution_count": 1,
   "metadata": {},
   "outputs": [],
   "source": [
    "#from google.colab import drive\n",
    "#drive.mount('/content/drive')"
   ]
  },
  {
   "cell_type": "code",
   "execution_count": 2,
   "metadata": {},
   "outputs": [],
   "source": [
    "%%capture\n",
    "#!pip install git+https://github.com/omarcastano/MasterThesis.git"
   ]
  },
  {
   "cell_type": "code",
   "execution_count": 3,
   "metadata": {},
   "outputs": [],
   "source": [
    "#!cp -r '/content/drive/MyDrive/Maestria/Datasets/Elevations.7z' /content\n",
    "#!7z x \"/content/Elevations.7z\"\n",
    "#!cp -r '/content/drive/MyDrive/Maestria/Datasets/Dataset.7z' /content\n",
    "#!7z x \"/content/Dataset.7z\""
   ]
  },
  {
   "cell_type": "code",
   "execution_count": 4,
   "metadata": {},
   "outputs": [
    {
     "data": {
      "text/plain": [
       "True"
      ]
     },
     "execution_count": 4,
     "metadata": {},
     "output_type": "execute_result"
    }
   ],
   "source": [
    "import torch\n",
    "import pandas as pd\n",
    "from sklearn.model_selection import train_test_split\n",
    "\n",
    "\n",
    "from MasterThesis.ssl.glcnet.dataset import CustomDataset\n",
    "#from MasterThesis.ssl.glcnet.utils import visualize_augmented_images\n",
    "from MasterThesis.trainer import Trainer\n",
    "from MasterThesis.ssl.glcnet.model import GLCNet\n",
    "\n",
    "# import wandB\n",
    "import wandb\n",
    "\n",
    "wandb.login(key=\"3dfb06e1099f6465f340f29f3fbd268fac8216e2\")"
   ]
  },
  {
   "cell_type": "code",
   "execution_count": 5,
   "metadata": {},
   "outputs": [],
   "source": [
    "drive_path = '/content/drive/MyDrive' \n",
    "drive_path = \"/media/omar/storage/gdrive\""
   ]
  },
  {
   "cell_type": "code",
   "execution_count": 6,
   "metadata": {},
   "outputs": [
    {
     "name": "stdout",
     "output_type": "stream",
     "text": [
      "(1195, 10)\n"
     ]
    },
    {
     "data": {
      "text/html": [
       "<div>\n",
       "<style scoped>\n",
       "    .dataframe tbody tr th:only-of-type {\n",
       "        vertical-align: middle;\n",
       "    }\n",
       "\n",
       "    .dataframe tbody tr th {\n",
       "        vertical-align: top;\n",
       "    }\n",
       "\n",
       "    .dataframe thead th {\n",
       "        text-align: right;\n",
       "    }\n",
       "</style>\n",
       "<table border=\"1\" class=\"dataframe\">\n",
       "  <thead>\n",
       "    <tr style=\"text-align: right;\">\n",
       "      <th></th>\n",
       "      <th>Id</th>\n",
       "      <th>Elevation</th>\n",
       "      <th>Image</th>\n",
       "      <th>Mask</th>\n",
       "      <th>non_agricultural(km2)</th>\n",
       "      <th>agricultural_frontier(km2)</th>\n",
       "      <th>legal_exclusions(km2)</th>\n",
       "      <th>non_agricultural</th>\n",
       "      <th>legal_exclusions</th>\n",
       "      <th>agricultural_frontier</th>\n",
       "    </tr>\n",
       "  </thead>\n",
       "  <tbody>\n",
       "    <tr>\n",
       "      <th>27030</th>\n",
       "      <td>181810200900132113</td>\n",
       "      <td>18NVN/18NVN_1_0/(200, 900)/elevation.tif</td>\n",
       "      <td>18NVN/18NVN_1_0/(200, 900)/chip.npy</td>\n",
       "      <td>18NVN/18NVN_1_0/(200, 900)/mask.tif</td>\n",
       "      <td>0.062</td>\n",
       "      <td>0.938</td>\n",
       "      <td>0.0</td>\n",
       "      <td>1</td>\n",
       "      <td>0</td>\n",
       "      <td>1</td>\n",
       "    </tr>\n",
       "    <tr>\n",
       "      <th>23748</th>\n",
       "      <td>181851400700132112</td>\n",
       "      <td>18NVM/18NVM_5_1/(400, 700)/elevation.tif</td>\n",
       "      <td>18NVM/18NVM_5_1/(400, 700)/chip.npy</td>\n",
       "      <td>18NVM/18NVM_5_1/(400, 700)/mask.tif</td>\n",
       "      <td>0.504</td>\n",
       "      <td>0.496</td>\n",
       "      <td>0.0</td>\n",
       "      <td>1</td>\n",
       "      <td>0</td>\n",
       "      <td>1</td>\n",
       "    </tr>\n",
       "    <tr>\n",
       "      <th>11740</th>\n",
       "      <td>181828300900132015</td>\n",
       "      <td>18NUP/18NUP_2_8/(300, 900)/elevation.tif</td>\n",
       "      <td>18NUP/18NUP_2_8/(300, 900)/chip.npy</td>\n",
       "      <td>18NUP/18NUP_2_8/(300, 900)/mask.tif</td>\n",
       "      <td>0.000</td>\n",
       "      <td>1.000</td>\n",
       "      <td>0.0</td>\n",
       "      <td>0</td>\n",
       "      <td>0</td>\n",
       "      <td>1</td>\n",
       "    </tr>\n",
       "    <tr>\n",
       "      <th>44886</th>\n",
       "      <td>181852800500132215</td>\n",
       "      <td>18NWP/18NWP_5_2/(800, 500)/elevation.tif</td>\n",
       "      <td>18NWP/18NWP_5_2/(800, 500)/chip.npy</td>\n",
       "      <td>18NWP/18NWP_5_2/(800, 500)/mask.tif</td>\n",
       "      <td>0.000</td>\n",
       "      <td>0.000</td>\n",
       "      <td>1.0</td>\n",
       "      <td>0</td>\n",
       "      <td>1</td>\n",
       "      <td>0</td>\n",
       "    </tr>\n",
       "    <tr>\n",
       "      <th>4543</th>\n",
       "      <td>181894400300132012</td>\n",
       "      <td>18NUM/18NUM_9_4/(400, 300)/elevation.tif</td>\n",
       "      <td>18NUM/18NUM_9_4/(400, 300)/chip.npy</td>\n",
       "      <td>18NUM/18NUM_9_4/(400, 300)/mask.tif</td>\n",
       "      <td>0.034</td>\n",
       "      <td>0.966</td>\n",
       "      <td>0.0</td>\n",
       "      <td>1</td>\n",
       "      <td>0</td>\n",
       "      <td>1</td>\n",
       "    </tr>\n",
       "  </tbody>\n",
       "</table>\n",
       "</div>"
      ],
      "text/plain": [
       "                       Id                                 Elevation  \\\n",
       "27030  181810200900132113  18NVN/18NVN_1_0/(200, 900)/elevation.tif   \n",
       "23748  181851400700132112  18NVM/18NVM_5_1/(400, 700)/elevation.tif   \n",
       "11740  181828300900132015  18NUP/18NUP_2_8/(300, 900)/elevation.tif   \n",
       "44886  181852800500132215  18NWP/18NWP_5_2/(800, 500)/elevation.tif   \n",
       "4543   181894400300132012  18NUM/18NUM_9_4/(400, 300)/elevation.tif   \n",
       "\n",
       "                                     Image  \\\n",
       "27030  18NVN/18NVN_1_0/(200, 900)/chip.npy   \n",
       "23748  18NVM/18NVM_5_1/(400, 700)/chip.npy   \n",
       "11740  18NUP/18NUP_2_8/(300, 900)/chip.npy   \n",
       "44886  18NWP/18NWP_5_2/(800, 500)/chip.npy   \n",
       "4543   18NUM/18NUM_9_4/(400, 300)/chip.npy   \n",
       "\n",
       "                                      Mask  non_agricultural(km2)  \\\n",
       "27030  18NVN/18NVN_1_0/(200, 900)/mask.tif                  0.062   \n",
       "23748  18NVM/18NVM_5_1/(400, 700)/mask.tif                  0.504   \n",
       "11740  18NUP/18NUP_2_8/(300, 900)/mask.tif                  0.000   \n",
       "44886  18NWP/18NWP_5_2/(800, 500)/mask.tif                  0.000   \n",
       "4543   18NUM/18NUM_9_4/(400, 300)/mask.tif                  0.034   \n",
       "\n",
       "       agricultural_frontier(km2)  legal_exclusions(km2)  non_agricultural  \\\n",
       "27030                       0.938                    0.0                 1   \n",
       "23748                       0.496                    0.0                 1   \n",
       "11740                       1.000                    0.0                 0   \n",
       "44886                       0.000                    1.0                 0   \n",
       "4543                        0.966                    0.0                 1   \n",
       "\n",
       "       legal_exclusions  agricultural_frontier  \n",
       "27030                 0                      1  \n",
       "23748                 0                      1  \n",
       "11740                 0                      1  \n",
       "44886                 1                      0  \n",
       "4543                  0                      1  "
      ]
     },
     "execution_count": 6,
     "metadata": {},
     "output_type": "execute_result"
    }
   ],
   "source": [
    "# Load metadata\n",
    "path_to_metadata = f\"{drive_path}/Maestria/Datasets/metadata.csv\"\n",
    "metadata = pd.read_csv(path_to_metadata).sample(frac=0.02, random_state=42)\n",
    "print(metadata.shape)\n",
    "metadata.head()"
   ]
  },
  {
   "cell_type": "code",
   "execution_count": 7,
   "metadata": {},
   "outputs": [],
   "source": [
    "# path to image and masks\n",
    "path_to_images = f\"{drive_path}/Maestria/Datasets/Dataset/\"\n",
    "path_to_elevations = f\"{drive_path}/Maestria/Datasets/Elevations/\""
   ]
  },
  {
   "cell_type": "code",
   "execution_count": 8,
   "metadata": {},
   "outputs": [],
   "source": [
    "# Visualize augmented images and elevation maps\n",
    "augment = {\n",
    "    \"horizontal_flip_prob\": 0.5,\n",
    "    \"vertical_flip_prob\": 0.5,\n",
    "    \"resize_scale\": (0.7, 1.0),\n",
    "    \"resize_prob\": 1.0,\n",
    "    \"brightness\": 0.4,\n",
    "    \"contrast\": 0.4,\n",
    "    \"saturation\": 0.4,\n",
    "    \"hue\": 0.2,\n",
    "    \"color_jitter_prob\": 0.5,\n",
    "    \"gray_scale_prob\": 0.2,\n",
    "}\n",
    "\n",
    "augment_original = {\n",
    "    \"horizontal_flip_prob\": 0.5,\n",
    "    \"vertical_flip_prob\": 0.5,\n",
    "    \"resize_scale\": (0.8, 1.0),\n",
    "    \"resize_prob\": 0.0,\n",
    "    \"brightness\": 0.2,\n",
    "    \"contrast\": 0.2,\n",
    "    \"saturation\": 0.2,\n",
    "    \"hue\": 0.1,\n",
    "    \"color_jitter_prob\": 0.2,\n",
    "    \"gray_scale_prob\": 0.2,\n",
    "}\n",
    "\n",
    "ds = CustomDataset(\n",
    "    path_to_images,\n",
    "    path_to_elevations,\n",
    "    metadata,\n",
    "    return_original=False,\n",
    "    augment=augment,\n",
    "    augment_original=augment_original,\n",
    "    patch_size=16,\n",
    "    patch_num=4,\n",
    ")\n",
    "# visualize_augmented_images(ds, brightness=0.1, n=10)"
   ]
  },
  {
   "cell_type": "markdown",
   "metadata": {},
   "source": [
    "## Training"
   ]
  },
  {
   "cell_type": "code",
   "execution_count": 9,
   "metadata": {},
   "outputs": [
    {
     "name": "stdout",
     "output_type": "stream",
     "text": [
      "(1075, 10)\n",
      "(120, 10)\n"
     ]
    }
   ],
   "source": [
    "# Split data in training and test\n",
    "metadata_train, metadata_test = train_test_split(metadata, test_size=0.1)\n",
    "print(metadata_train.shape)\n",
    "print(metadata_test.shape)"
   ]
  },
  {
   "cell_type": "code",
   "execution_count": 10,
   "metadata": {},
   "outputs": [],
   "source": [
    "path_to_save_model = f\"{drive_path}/Maestria/Theses/SSL/GLCNet/models/resnet18/\""
   ]
  },
  {
   "cell_type": "code",
   "execution_count": 13,
   "metadata": {},
   "outputs": [],
   "source": [
    "augment_original = {\n",
    "    \"horizontal_flip_prob\": 0.5,\n",
    "    \"vertical_flip_prob\": 0.5,\n",
    "    \"resize_scale\": (0.7, 1.0),\n",
    "    \"resize_prob\": 0.0,\n",
    "    \"brightness\": 0.2,\n",
    "    \"contrast\": 0.2,\n",
    "    \"saturation\": 0.2,\n",
    "    \"hue\": 0.2,\n",
    "    \"color_jitter_prob\": 0.3,\n",
    "    \"gray_scale_prob\": 0.2,\n",
    "}\n",
    "\n",
    "metadata_kwargs = {\n",
    "    \"path_to_images\": path_to_images,\n",
    "    \"path_to_elevations\": path_to_elevations,\n",
    "    \"path_to_save_model\": path_to_save_model,  # path_to_save_model,  # Path to save the model that is being trained (do not include the extension .pt or .pth)\n",
    "    \"path_to_load_model\": None,  # Path to load a model from a checkpoint (useful to handle notebook disconection)\n",
    "    \"metadata_train\": metadata_train,\n",
    "    \"metadata_test\": metadata_test,\n",
    "    \"metadata_valid\": None,\n",
    "    \"num_workers\": 6,\n",
    "    \"device\": \"cuda\",\n",
    "    \"augment_original\": augment_original,\n",
    "}\n",
    "\n",
    "\n",
    "augment = {\n",
    "    \"horizontal_flip_prob\": 0.5,\n",
    "    \"vertical_flip_prob\": 0.5,\n",
    "    \"resize_scale\": (0.7, 1.0),\n",
    "    \"resize_prob\": 1.0,\n",
    "    \"brightness\": 0.4,\n",
    "    \"contrast\": 0.4,\n",
    "    \"saturation\": 0.4,\n",
    "    \"hue\": 0.2,\n",
    "    \"color_jitter_prob\": 0.5,\n",
    "    \"gray_scale_prob\": 0.2,\n",
    "}\n",
    "\n",
    "\n",
    "hypm_kwargs = {\n",
    "    \"version\": \"ElevationSSL\",\n",
    "    \"model_name\": \"GLCNet\",\n",
    "    \"alpha\": 0.5,  # If zero is the GLCNet contrastive model\n",
    "    \"beta\": 0.5,\n",
    "    \"amount_ss_data\": metadata_train,\n",
    "    \"input_size\": 100,\n",
    "    \"output_size\": 33,\n",
    "    \"decoder_channels\": [256, 128, 64],\n",
    "    \"backbone\": \"resnet18\",\n",
    "    \"fine_tune\": None,\n",
    "    \"tf_epoch\": None,\n",
    "    \"pretrained\": False,\n",
    "    \"in_channels\": 3,\n",
    "    \"normalizing_factor\": 6000,\n",
    "    \"temperature\": 0.5,  # Temperature hyperparameter used in the NTXenLoss function\n",
    "    \"weight_decay\": 0.00005,\n",
    "    \"learning_rate\": 1e-3,\n",
    "    \"train_batch_size\": 64,\n",
    "    \"test_batch_size\": 64,\n",
    "    \"epochs\": 5,\n",
    "    \"augment_train\": augment,\n",
    "    \"augment_test\": augment,\n",
    "    \"eval_epoch\": 5,\n",
    "}\n",
    "\n",
    "wandb_kwargs = {\n",
    "    \"project\": \"SSL\",\n",
    "    \"entity\": \"omar-c\",\n",
    "    \"id\": None,\n",
    "    \"name\": \"GLCNet\",\n",
    "    \"resume\": False,\n",
    "}"
   ]
  },
  {
   "cell_type": "code",
   "execution_count": 14,
   "metadata": {},
   "outputs": [],
   "source": [
    "trainer = Trainer(CustomDataset, None, wandb_kwargs, hypm_kwargs, metadata_kwargs)\n",
    "trainer.configure_trainer()"
   ]
  },
  {
   "cell_type": "code",
   "execution_count": 15,
   "metadata": {},
   "outputs": [
    {
     "name": "stdout",
     "output_type": "stream",
     "text": [
      "--------------------\n",
      "run_id 39g2aia3\n",
      "--------------------\n"
     ]
    },
    {
     "data": {
      "application/vnd.jupyter.widget-view+json": {
       "model_id": "e8d585425f6f4adbb5489e343c9aa7a8",
       "version_major": 2,
       "version_minor": 0
      },
      "text/plain": [
       "Epoch 1/5 :   0%|          | 0/5 [00:00<?, ?it/s]"
      ]
     },
     "metadata": {},
     "output_type": "display_data"
    },
    {
     "data": {
      "application/vnd.jupyter.widget-view+json": {
       "model_id": "d2e54131a3a8461cad2aa22db2a6e201",
       "version_major": 2,
       "version_minor": 0
      },
      "text/plain": [
       "  0%|          | 0/16 [00:00<?, ?it/s]"
      ]
     },
     "metadata": {},
     "output_type": "display_data"
    },
    {
     "data": {
      "application/vnd.jupyter.widget-view+json": {
       "model_id": "375df2ee4fdc4838962e9e40599bbbcd",
       "version_major": 2,
       "version_minor": 0
      },
      "text/plain": [
       "  0%|          | 0/1 [00:00<?, ?it/s]"
      ]
     },
     "metadata": {},
     "output_type": "display_data"
    },
    {
     "data": {
      "application/vnd.jupyter.widget-view+json": {
       "model_id": "d64dd576b4c04076b9e0cba05f6fe0ca",
       "version_major": 2,
       "version_minor": 0
      },
      "text/plain": [
       "  0%|          | 0/16 [00:00<?, ?it/s]"
      ]
     },
     "metadata": {},
     "output_type": "display_data"
    },
    {
     "data": {
      "application/vnd.jupyter.widget-view+json": {
       "model_id": "53670aa5de774cccb0059566ba59d42f",
       "version_major": 2,
       "version_minor": 0
      },
      "text/plain": [
       "  0%|          | 0/16 [00:00<?, ?it/s]"
      ]
     },
     "metadata": {},
     "output_type": "display_data"
    },
    {
     "data": {
      "application/vnd.jupyter.widget-view+json": {
       "model_id": "42db846f46044850b88aac0a779ee4b9",
       "version_major": 2,
       "version_minor": 0
      },
      "text/plain": [
       "  0%|          | 0/16 [00:00<?, ?it/s]"
      ]
     },
     "metadata": {},
     "output_type": "display_data"
    },
    {
     "data": {
      "application/vnd.jupyter.widget-view+json": {
       "model_id": "c7ccbe27f66a426a9d5ff913689a8529",
       "version_major": 2,
       "version_minor": 0
      },
      "text/plain": [
       "  0%|          | 0/16 [00:00<?, ?it/s]"
      ]
     },
     "metadata": {},
     "output_type": "display_data"
    },
    {
     "data": {
      "application/vnd.jupyter.widget-view+json": {
       "model_id": "c8eeb8425e044506a836305d11c57064",
       "version_major": 2,
       "version_minor": 0
      },
      "text/plain": [
       "  0%|          | 0/1 [00:00<?, ?it/s]"
      ]
     },
     "metadata": {},
     "output_type": "display_data"
    }
   ],
   "source": [
    "trainer.fit()"
   ]
  },
  {
   "cell_type": "code",
   "execution_count": null,
   "metadata": {},
   "outputs": [],
   "source": []
  }
 ],
 "metadata": {
  "kernelspec": {
   "display_name": "Python 3.7.13 64-bit ('MasterThesis')",
   "language": "python",
   "name": "python3"
  },
  "language_info": {
   "codemirror_mode": {
    "name": "ipython",
    "version": 3
   },
   "file_extension": ".py",
   "mimetype": "text/x-python",
   "name": "python",
   "nbconvert_exporter": "python",
   "pygments_lexer": "ipython3",
   "version": "3.7.13"
  },
  "orig_nbformat": 4,
  "vscode": {
   "interpreter": {
    "hash": "81ba9a1503424c443a7bc1e1bbe8d83e046e09a72ec9317cd76d572ac910684c"
   }
  }
 },
 "nbformat": 4,
 "nbformat_minor": 2
}
