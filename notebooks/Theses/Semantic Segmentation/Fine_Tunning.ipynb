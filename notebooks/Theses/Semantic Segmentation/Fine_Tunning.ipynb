{
    "cells": [
        {
            "cell_type": "code",
            "execution_count": null,
            "metadata": {
                "colab": {
                    "base_uri": "https://localhost:8080/"
                },
                "executionInfo": {
                    "elapsed": 794,
                    "status": "ok",
                    "timestamp": 1669683172110,
                    "user": {
                        "displayName": "Omar Andres Castaño",
                        "userId": "15147820125606867511"
                    },
                    "user_tz": 300
                },
                "id": "HU5TbiH45Ugv",
                "outputId": "3311ecf9-57fe-45af-8dcb-abd86853cf55"
            },
            "outputs": [],
            "source": [
                "from elevation_aware_ssl.segmentation.dataset import CustomDataset\n",
                "from elevation_aware_ssl import EDA\n",
                "import pandas as pd\n",
                "\n",
                "from elevation_aware_ssl.segmentation.dataset import CustomDataset\n",
                "from elevation_aware_ssl.segmentation.utils import visualize_augmented_images\n",
                "from elevation_aware_ssl.classification.utils import generate_metadata_train_test_stratified_cv\n",
                "from elevation_aware_ssl.trainer import Trainer\n",
                "\n",
                "import torch\n",
                "\n",
                "import wandb\n",
                "wandb.login(key=\"wandb_key\")"
            ]
        },
        {
            "cell_type": "code",
            "execution_count": null,
            "metadata": {
                "executionInfo": {
                    "elapsed": 3,
                    "status": "ok",
                    "timestamp": 1669683172110,
                    "user": {
                        "displayName": "Omar Andres Castaño",
                        "userId": "15147820125606867511"
                    },
                    "user_tz": 300
                },
                "id": "FV77sY_75iJ9"
            },
            "outputs": [],
            "source": [
                "drive_path = \"/media/omar/storage/gdrive/\"\n",
                "#drive_path = '/content/drive/MyDrive/'"
            ]
        },
        {
            "cell_type": "code",
            "execution_count": null,
            "metadata": {
                "executionInfo": {
                    "elapsed": 3,
                    "status": "ok",
                    "timestamp": 1669683172110,
                    "user": {
                        "displayName": "Omar Andres Castaño",
                        "userId": "15147820125606867511"
                    },
                    "user_tz": 300
                },
                "id": "4Rvqh56o5Ugv"
            },
            "outputs": [],
            "source": [
                "path_to_labels = f\"{drive_path}Maestria/Datasets/LabelsGeoTiffv2/\"  # \"/content/LabelsGeoTiffv2/\" #\n",
                "path_to_images = f\"{drive_path}Maestria/Datasets/Dataset/\"  # \"/content/Dataset/\" #\n",
                "select_classes = [\n",
                "    \"non_agricultural_area\",\n",
                "    \"agricultural_frontier\",\n",
                "]  # [\"non_agricultural_area\", \"legal_exclusions\", \"agricultural_frontier\"]"
            ]
        },
        {
            "cell_type": "code",
            "execution_count": null,
            "metadata": {
                "executionInfo": {
                    "elapsed": 4,
                    "status": "ok",
                    "timestamp": 1669683172111,
                    "user": {
                        "displayName": "Omar Andres Castaño",
                        "userId": "15147820125606867511"
                    },
                    "user_tz": 300
                },
                "id": "llLg_R3E5Ugw"
            },
            "outputs": [],
            "source": [
                "query = [\"((legal_exclusions == 0) and ((non_agricultural == 1) or (agricultural_frontier == 1))) \"]\n",
                "# \"| ((legal_exclusions == 1) and (non_agricultural == 0) and (agricultural_frontier == 0))\"]"
            ]
        },
        {
            "cell_type": "code",
            "execution_count": null,
            "metadata": {
                "colab": {
                    "base_uri": "https://localhost:8080/",
                    "height": 374
                },
                "executionInfo": {
                    "elapsed": 383,
                    "status": "ok",
                    "timestamp": 1669683172490,
                    "user": {
                        "displayName": "Omar Andres Castaño",
                        "userId": "15147820125606867511"
                    },
                    "user_tz": 300
                },
                "id": "U4D_XtLZ5Ugw",
                "outputId": "9ed9cef5-c469-4332-f28d-ab650723918c"
            },
            "outputs": [],
            "source": [
                "# Load metadata\n",
                "path_to_metadata = f\"{drive_path}Maestria/Datasets/metadata.csv\"\n",
                "metadata = pd.read_csv(path_to_metadata).sample(frac=0.25, random_state=42)\n",
                "metadata[\"Labels\"] = (metadata[\"non_agricultural(km2)\"] <= 0.5)*1\n",
                "metadata = metadata.query(query[0])\n",
                "\n",
                "print(metadata.shape)\n",
                "metadata.head()"
            ]
        },
        {
            "cell_type": "code",
            "execution_count": null,
            "metadata": {},
            "outputs": [],
            "source": [
                "select_classes"
            ]
        },
        {
            "cell_type": "code",
            "execution_count": null,
            "metadata": {
                "colab": {
                    "base_uri": "https://localhost:8080/",
                    "height": 411
                },
                "executionInfo": {
                    "elapsed": 1721,
                    "status": "ok",
                    "timestamp": 1669683174208,
                    "user": {
                        "displayName": "Omar Andres Castaño",
                        "userId": "15147820125606867511"
                    },
                    "user_tz": 300
                },
                "id": "2p49lGPb5Ugx",
                "outputId": "445a6816-60e9-4d58-f528-13a7aee8a393"
            },
            "outputs": [],
            "source": [
                "# Plot images\n",
                "cmap = {0: [0.5, 0.5, 0.5, 1], 1: [0.0, 0.5, 0.0, 1]}\n",
                "\n",
                "fig = EDA.visualize_images_and_masks(\n",
                "    path_to_labels, path_to_images, metadata, n=5, figsize=(20, 7), class_names=select_classes, cmap=cmap\n",
                ")"
            ]
        },
        {
            "cell_type": "code",
            "execution_count": null,
            "metadata": {
                "colab": {
                    "base_uri": "https://localhost:8080/",
                    "height": 530
                },
                "executionInfo": {
                    "elapsed": 3699,
                    "status": "ok",
                    "timestamp": 1669683177902,
                    "user": {
                        "displayName": "Omar Andres Castaño",
                        "userId": "15147820125606867511"
                    },
                    "user_tz": 300
                },
                "id": "UFNZMRY-5Ugx",
                "outputId": "09ae680c-d709-4fa2-ffaf-8610fb9bad96"
            },
            "outputs": [],
            "source": [
                "augment = {\n",
                "    \"horizontal_flip_prob\": 0.5,\n",
                "    \"vertical_flip_prob\": 0.5,\n",
                "    \"resize_scale\": (0.8, 1.0),\n",
                "    \"resize_prob\": 0.5,\n",
                "    \"brightness\": 0.1,\n",
                "    \"contrast\": 0.1,\n",
                "    \"saturation\": 0.1,\n",
                "    \"hue\": 0.1,\n",
                "    \"color_jitter_prob\": 0.5,\n",
                "    \"gray_scale_prob\": 0.2,\n",
                "}\n",
                "\n",
                "ds = CustomDataset(path_to_images, path_to_labels, metadata, return_original=True, augment=augment)\n",
                "visualize_augmented_images(ds, classes_name=select_classes, n=5)"
            ]
        },
        {
            "cell_type": "code",
            "execution_count": null,
            "metadata": {
                "executionInfo": {
                    "elapsed": 25,
                    "status": "ok",
                    "timestamp": 1669683177903,
                    "user": {
                        "displayName": "Omar Andres Castaño",
                        "userId": "15147820125606867511"
                    },
                    "user_tz": 300
                },
                "id": "4-mXb-Z55Ugy"
            },
            "outputs": [],
            "source": [
                "augment = {\n",
                "    \"horizontal_flip_prob\": 0.5,\n",
                "    \"vertical_flip_prob\": 0.5,\n",
                "    \"resize_scale\": (0.8, 1.0),\n",
                "    \"resize_prob\": 0.0,\n",
                "    \"brightness\": 0.1,\n",
                "    \"contrast\": 0.1,\n",
                "    \"saturation\": 0.1,\n",
                "    \"hue\": 0.1,\n",
                "    \"color_jitter_prob\": 0.2,\n",
                "    \"gray_scale_prob\": 0.2,\n",
                "}"
            ]
        },
        {
            "cell_type": "code",
            "execution_count": null,
            "metadata": {
                "colab": {
                    "base_uri": "https://localhost:8080/"
                },
                "executionInfo": {
                    "elapsed": 25,
                    "status": "ok",
                    "timestamp": 1669683177903,
                    "user": {
                        "displayName": "Omar Andres Castaño",
                        "userId": "15147820125606867511"
                    },
                    "user_tz": 300
                },
                "id": "qst5-b-45Ugy",
                "outputId": "969f20ff-ce1c-4f86-c557-84ed7ac8e326"
            },
            "outputs": [],
            "source": [
                "metadata_train, metadata_test, metadata_valid = generate_metadata_train_test_stratified_cv(metadata, train_size=10, n_split=4)"
            ]
        },
        {
            "cell_type": "code",
            "execution_count": null,
            "metadata": {
                "executionInfo": {
                    "elapsed": 22,
                    "status": "ok",
                    "timestamp": 1669683177904,
                    "user": {
                        "displayName": "Omar Andres Castaño",
                        "userId": "15147820125606867511"
                    },
                    "user_tz": 300
                },
                "id": "_mBL6Njp5Ugz"
            },
            "outputs": [],
            "source": [
                "def run_experiment(\n",
                "    train_size,\n",
                "    epochs,\n",
                "    pretrained=False,\n",
                "    version=\"RandomInit\",\n",
                "    path_to_load_backbone=None,\n",
                "    fine_tune=False,\n",
                "    ft_epoch=30,\n",
                "    project=\"CLF-2_classes\",\n",
                "    train_batch_size=8,\n",
                "):\n",
                "    metadata_train, metadata_test, metadata_valid = generate_metadata_train_test_stratified_cv(metadata, train_size=train_size, n_split=5)\n",
                "\n",
                "    hypm_kwargs = {\n",
                "        \"version\": version,\n",
                "        \"model_name\": \"Unet\",\n",
                "        \"amount_of_ft_data\": metadata_train[1].shape[0],\n",
                "        \"backbone\": \"resnet18\",\n",
                "        \"pretrained\": pretrained,\n",
                "        \"fine_tune\": fine_tune,\n",
                "        \"ft_epoch\": ft_epoch,\n",
                "        \"ft_lr\": 0.000005,\n",
                "        \"in_channels\": 3,\n",
                "        \"num_classes\": 2,\n",
                "        \"class_names\": select_classes,\n",
                "        \"normalizing_factor\": 6000,\n",
                "        \"weight_decay\": 0.00005,\n",
                "        \"learning_rate\": 1e-3,\n",
                "        \"train_batch_size\": train_batch_size,\n",
                "        \"test_batch_size\": 256,\n",
                "        \"epochs\": epochs,\n",
                "        \"augment_train\": augment,\n",
                "        \"augment_test\": None,\n",
                "        \"patient\": 15,\n",
                "        \"eval_epoch\": 1,\n",
                "    }\n",
                "\n",
                "    wandb_kwargs = {\n",
                "        \"project\": \"Segmentation-2_classes\",\n",
                "        \"entity\": \"omar-c\",\n",
                "        \"id\": None,\n",
                "        \"name\": version,\n",
                "        \"resume\": False,\n",
                "    }\n",
                "\n",
                "    for train, test, valid in zip(metadata_train, metadata_test, metadata_valid):\n",
                "        metadata_kwargs = {\n",
                "            \"path_to_images\": path_to_images,\n",
                "            \"path_to_labels\": path_to_labels,\n",
                "            \"path_to_save_model\": None,  # path_to_save_model,  # Path to save the model that is being trained (do not include the extension .pt or .pth)\n",
                "            \"path_to_load_model\": None,  # Path to load a model from a checkpoint (useful to handle notebook disconection)\n",
                "            \"path_to_load_backbone\": path_to_load_backbone,\n",
                "            \"metadata_train\": train,\n",
                "            \"metadata_test\": test,\n",
                "            \"metadata_valid\": valid,\n",
                "            \"num_workers\": 6,\n",
                "            \"device\": \"cuda\",\n",
                "        }\n",
                "\n",
                "        trainer = Trainer(CustomDataset, visualize_augmented_images, wandb_kwargs, hypm_kwargs, metadata_kwargs)\n",
                "        trainer.configure_trainer()\n",
                "\n",
                "        trainer.fit()\n",
                "\n",
                "        break\n",
                "\n",
                "    torch.save(trainer.model, f\"models/model_{train_size}_{version}.pth\")"
            ]
        },
        {
            "cell_type": "code",
            "execution_count": null,
            "metadata": {
                "executionInfo": {
                    "elapsed": 21,
                    "status": "ok",
                    "timestamp": 1669683177904,
                    "user": {
                        "displayName": "Omar Andres Castaño",
                        "userId": "15147820125606867511"
                    },
                    "user_tz": 300
                },
                "id": "F6i1UfXH5Ugz"
            },
            "outputs": [],
            "source": [
                "path_to_save_model = f\"{drive_path}Maestria/pruebas/models/resnet18\"\n",
                "path_to_load_backbone_glcnet = f\"{drive_path}Maestria/Theses/SSL/GLCNet/models/resnet18/model_Eleve-GLCNet(a=0.0).pth\"\n",
                "# path_to_load_backbone_elevation_simclr = f\"{drive_path}Maestria/Theses/SSL/ElevationSSL/models/resnet18/Elevation-SimCLR/model_SimCLR-Elevation.pth\"\n",
                "# path_to_load_backbone_elevation = f\"{drive_path}Maestria/Theses/SSL/ElevationSSL/models/resnet18/Elevation/model_Elevation.pth\""
            ]
        },
        {
            "cell_type": "code",
            "execution_count": null,
            "metadata": {},
            "outputs": [],
            "source": [
                "run_experiment(\n",
                "    train_size=80,\n",
                "    epochs=100,\n",
                "    pretrained=False,\n",
                "    version=\"RandomInit\",\n",
                "    path_to_load_backbone=None,\n",
                "    fine_tune=False,\n",
                "    ft_epoch=None,\n",
                "    train_batch_size=5,\n",
                ")\n",
                "\n",
                "run_experiment(\n",
                "    train_size=80,\n",
                "    epochs=100,\n",
                "    pretrained=True,\n",
                "    version=\"SimCLR\",\n",
                "    path_to_load_backbone=path_to_load_backbone_glcnet,\n",
                "    fine_tune=True,\n",
                "    ft_epoch=10,\n",
                "    train_batch_size=5,\n",
                ")"
            ]
        }
    ],
    "metadata": {
        "accelerator": "GPU",
        "colab": {
            "name": "",
            "version": ""
        },
        "gpuClass": "standard",
        "kernelspec": {
            "display_name": "Python 3.7.13 64-bit ('elevation_aware_ssl')",
            "language": "python",
            "name": "python3"
        },
        "language_info": {
            "codemirror_mode": {
                "name": "ipython",
                "version": 3
            },
            "file_extension": ".py",
            "mimetype": "text/x-python",
            "name": "python",
            "nbconvert_exporter": "python",
            "pygments_lexer": "ipython3",
            "version": "3.9.0"
        },
        "vscode": {
            "interpreter": {
                "hash": "81ba9a1503424c443a7bc1e1bbe8d83e046e09a72ec9317cd76d572ac910684c"
            }
        },
        "widgets": {
            "application/vnd.jupyter.widget-state+json": {
                "2f6bf81959924b20b1cff88f914c4278": {
                    "model_module": "@jupyter-widgets/controls",
                    "model_module_version": "1.5.0",
                    "model_name": "HTMLModel",
                    "state": {
                        "_dom_classes": [],
                        "_model_module": "@jupyter-widgets/controls",
                        "_model_module_version": "1.5.0",
                        "_model_name": "HTMLModel",
                        "_view_count": null,
                        "_view_module": "@jupyter-widgets/controls",
                        "_view_module_version": "1.5.0",
                        "_view_name": "HTMLView",
                        "description": "",
                        "description_tooltip": null,
                        "layout": "IPY_MODEL_85166cad13c245eda77ed41fa5492631",
                        "placeholder": "​",
                        "style": "IPY_MODEL_7be6b84cd3f04759927ca5caa7ab70b1",
                        "value": "Epoch 1/100 :   0%"
                    }
                },
                "492f26e46b7f42ad9af0849a41452486": {
                    "model_module": "@jupyter-widgets/base",
                    "model_module_version": "1.2.0",
                    "model_name": "LayoutModel",
                    "state": {
                        "_model_module": "@jupyter-widgets/base",
                        "_model_module_version": "1.2.0",
                        "_model_name": "LayoutModel",
                        "_view_count": null,
                        "_view_module": "@jupyter-widgets/base",
                        "_view_module_version": "1.2.0",
                        "_view_name": "LayoutView",
                        "align_content": null,
                        "align_items": null,
                        "align_self": null,
                        "border": null,
                        "bottom": null,
                        "display": null,
                        "flex": null,
                        "flex_flow": null,
                        "grid_area": null,
                        "grid_auto_columns": null,
                        "grid_auto_flow": null,
                        "grid_auto_rows": null,
                        "grid_column": null,
                        "grid_gap": null,
                        "grid_row": null,
                        "grid_template_areas": null,
                        "grid_template_columns": null,
                        "grid_template_rows": null,
                        "height": null,
                        "justify_content": null,
                        "justify_items": null,
                        "left": null,
                        "margin": null,
                        "max_height": null,
                        "max_width": null,
                        "min_height": null,
                        "min_width": null,
                        "object_fit": null,
                        "object_position": null,
                        "order": null,
                        "overflow": null,
                        "overflow_x": null,
                        "overflow_y": null,
                        "padding": null,
                        "right": null,
                        "top": null,
                        "visibility": null,
                        "width": null
                    }
                },
                "5109f4c2c8544441be3680d164b3ddeb": {
                    "model_module": "@jupyter-widgets/controls",
                    "model_module_version": "1.5.0",
                    "model_name": "DescriptionStyleModel",
                    "state": {
                        "_model_module": "@jupyter-widgets/controls",
                        "_model_module_version": "1.5.0",
                        "_model_name": "DescriptionStyleModel",
                        "_view_count": null,
                        "_view_module": "@jupyter-widgets/base",
                        "_view_module_version": "1.2.0",
                        "_view_name": "StyleView",
                        "description_width": ""
                    }
                },
                "74ba3568dcb04c978b33d973e4217f3a": {
                    "model_module": "@jupyter-widgets/controls",
                    "model_module_version": "1.5.0",
                    "model_name": "HTMLModel",
                    "state": {
                        "_dom_classes": [],
                        "_model_module": "@jupyter-widgets/controls",
                        "_model_module_version": "1.5.0",
                        "_model_name": "HTMLModel",
                        "_view_count": null,
                        "_view_module": "@jupyter-widgets/controls",
                        "_view_module_version": "1.5.0",
                        "_view_name": "HTMLView",
                        "description": "",
                        "description_tooltip": null,
                        "layout": "IPY_MODEL_838e2e161b13418da0a604574256b0ce",
                        "placeholder": "​",
                        "style": "IPY_MODEL_5109f4c2c8544441be3680d164b3ddeb",
                        "value": " 0/100 [00:00&lt;?, ?it/s]"
                    }
                },
                "7be6b84cd3f04759927ca5caa7ab70b1": {
                    "model_module": "@jupyter-widgets/controls",
                    "model_module_version": "1.5.0",
                    "model_name": "DescriptionStyleModel",
                    "state": {
                        "_model_module": "@jupyter-widgets/controls",
                        "_model_module_version": "1.5.0",
                        "_model_name": "DescriptionStyleModel",
                        "_view_count": null,
                        "_view_module": "@jupyter-widgets/base",
                        "_view_module_version": "1.2.0",
                        "_view_name": "StyleView",
                        "description_width": ""
                    }
                },
                "81f079db8d8e4dccbfeb958223bd4e3f": {
                    "model_module": "@jupyter-widgets/controls",
                    "model_module_version": "1.5.0",
                    "model_name": "HBoxModel",
                    "state": {
                        "_dom_classes": [],
                        "_model_module": "@jupyter-widgets/controls",
                        "_model_module_version": "1.5.0",
                        "_model_name": "HBoxModel",
                        "_view_count": null,
                        "_view_module": "@jupyter-widgets/controls",
                        "_view_module_version": "1.5.0",
                        "_view_name": "HBoxView",
                        "box_style": "",
                        "children": [
                            "IPY_MODEL_2f6bf81959924b20b1cff88f914c4278",
                            "IPY_MODEL_bcd51f06d09f4d25ab25a5810da92c0e",
                            "IPY_MODEL_74ba3568dcb04c978b33d973e4217f3a"
                        ],
                        "layout": "IPY_MODEL_e3c4b7023cbf447aa5bb539a53a89ad1"
                    }
                },
                "838e2e161b13418da0a604574256b0ce": {
                    "model_module": "@jupyter-widgets/base",
                    "model_module_version": "1.2.0",
                    "model_name": "LayoutModel",
                    "state": {
                        "_model_module": "@jupyter-widgets/base",
                        "_model_module_version": "1.2.0",
                        "_model_name": "LayoutModel",
                        "_view_count": null,
                        "_view_module": "@jupyter-widgets/base",
                        "_view_module_version": "1.2.0",
                        "_view_name": "LayoutView",
                        "align_content": null,
                        "align_items": null,
                        "align_self": null,
                        "border": null,
                        "bottom": null,
                        "display": null,
                        "flex": null,
                        "flex_flow": null,
                        "grid_area": null,
                        "grid_auto_columns": null,
                        "grid_auto_flow": null,
                        "grid_auto_rows": null,
                        "grid_column": null,
                        "grid_gap": null,
                        "grid_row": null,
                        "grid_template_areas": null,
                        "grid_template_columns": null,
                        "grid_template_rows": null,
                        "height": null,
                        "justify_content": null,
                        "justify_items": null,
                        "left": null,
                        "margin": null,
                        "max_height": null,
                        "max_width": null,
                        "min_height": null,
                        "min_width": null,
                        "object_fit": null,
                        "object_position": null,
                        "order": null,
                        "overflow": null,
                        "overflow_x": null,
                        "overflow_y": null,
                        "padding": null,
                        "right": null,
                        "top": null,
                        "visibility": null,
                        "width": null
                    }
                },
                "85166cad13c245eda77ed41fa5492631": {
                    "model_module": "@jupyter-widgets/base",
                    "model_module_version": "1.2.0",
                    "model_name": "LayoutModel",
                    "state": {
                        "_model_module": "@jupyter-widgets/base",
                        "_model_module_version": "1.2.0",
                        "_model_name": "LayoutModel",
                        "_view_count": null,
                        "_view_module": "@jupyter-widgets/base",
                        "_view_module_version": "1.2.0",
                        "_view_name": "LayoutView",
                        "align_content": null,
                        "align_items": null,
                        "align_self": null,
                        "border": null,
                        "bottom": null,
                        "display": null,
                        "flex": null,
                        "flex_flow": null,
                        "grid_area": null,
                        "grid_auto_columns": null,
                        "grid_auto_flow": null,
                        "grid_auto_rows": null,
                        "grid_column": null,
                        "grid_gap": null,
                        "grid_row": null,
                        "grid_template_areas": null,
                        "grid_template_columns": null,
                        "grid_template_rows": null,
                        "height": null,
                        "justify_content": null,
                        "justify_items": null,
                        "left": null,
                        "margin": null,
                        "max_height": null,
                        "max_width": null,
                        "min_height": null,
                        "min_width": null,
                        "object_fit": null,
                        "object_position": null,
                        "order": null,
                        "overflow": null,
                        "overflow_x": null,
                        "overflow_y": null,
                        "padding": null,
                        "right": null,
                        "top": null,
                        "visibility": null,
                        "width": null
                    }
                },
                "b44c13aedf884b9db739d6105b52a4a7": {
                    "model_module": "@jupyter-widgets/controls",
                    "model_module_version": "1.5.0",
                    "model_name": "ProgressStyleModel",
                    "state": {
                        "_model_module": "@jupyter-widgets/controls",
                        "_model_module_version": "1.5.0",
                        "_model_name": "ProgressStyleModel",
                        "_view_count": null,
                        "_view_module": "@jupyter-widgets/base",
                        "_view_module_version": "1.2.0",
                        "_view_name": "StyleView",
                        "bar_color": null,
                        "description_width": ""
                    }
                },
                "bcd51f06d09f4d25ab25a5810da92c0e": {
                    "model_module": "@jupyter-widgets/controls",
                    "model_module_version": "1.5.0",
                    "model_name": "FloatProgressModel",
                    "state": {
                        "_dom_classes": [],
                        "_model_module": "@jupyter-widgets/controls",
                        "_model_module_version": "1.5.0",
                        "_model_name": "FloatProgressModel",
                        "_view_count": null,
                        "_view_module": "@jupyter-widgets/controls",
                        "_view_module_version": "1.5.0",
                        "_view_name": "ProgressView",
                        "bar_style": "",
                        "description": "",
                        "description_tooltip": null,
                        "layout": "IPY_MODEL_492f26e46b7f42ad9af0849a41452486",
                        "max": 100,
                        "min": 0,
                        "orientation": "horizontal",
                        "style": "IPY_MODEL_b44c13aedf884b9db739d6105b52a4a7",
                        "value": 0
                    }
                },
                "e3c4b7023cbf447aa5bb539a53a89ad1": {
                    "model_module": "@jupyter-widgets/base",
                    "model_module_version": "1.2.0",
                    "model_name": "LayoutModel",
                    "state": {
                        "_model_module": "@jupyter-widgets/base",
                        "_model_module_version": "1.2.0",
                        "_model_name": "LayoutModel",
                        "_view_count": null,
                        "_view_module": "@jupyter-widgets/base",
                        "_view_module_version": "1.2.0",
                        "_view_name": "LayoutView",
                        "align_content": null,
                        "align_items": null,
                        "align_self": null,
                        "border": null,
                        "bottom": null,
                        "display": null,
                        "flex": null,
                        "flex_flow": null,
                        "grid_area": null,
                        "grid_auto_columns": null,
                        "grid_auto_flow": null,
                        "grid_auto_rows": null,
                        "grid_column": null,
                        "grid_gap": null,
                        "grid_row": null,
                        "grid_template_areas": null,
                        "grid_template_columns": null,
                        "grid_template_rows": null,
                        "height": null,
                        "justify_content": null,
                        "justify_items": null,
                        "left": null,
                        "margin": null,
                        "max_height": null,
                        "max_width": null,
                        "min_height": null,
                        "min_width": null,
                        "object_fit": null,
                        "object_position": null,
                        "order": null,
                        "overflow": null,
                        "overflow_x": null,
                        "overflow_y": null,
                        "padding": null,
                        "right": null,
                        "top": null,
                        "visibility": null,
                        "width": null
                    }
                }
            }
        }
    },
    "nbformat": 4,
    "nbformat_minor": 0
}
