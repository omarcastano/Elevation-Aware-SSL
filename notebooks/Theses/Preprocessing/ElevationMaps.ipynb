{
 "cells": [
  {
   "cell_type": "code",
   "execution_count": 1,
   "metadata": {},
   "outputs": [
    {
     "name": "stderr",
     "output_type": "stream",
     "text": [
      "/media/omar/storage/gdrive/Maestria/MasterThesis/MasterThesis/preprocessing.py:13: TqdmExperimentalWarning: Using `tqdm.autonotebook.tqdm` in notebook mode. Use `tqdm.tqdm` instead to force console mode (e.g. in jupyter console)\n",
      "  from tqdm.autonotebook import tqdm\n"
     ]
    }
   ],
   "source": [
    "from MasterThesis.EDA import read_geotiff_image, read_numpy_image, less_cloudy_image\n",
    "from MasterThesis.preprocessing import from_array_to_geotiff\n",
    "import matplotlib.pyplot as plt\n",
    "import pandas as pd\n",
    "from IPython.display import clear_output\n",
    "import numpy as np\n",
    "import os\n",
    "import sys\n",
    "import elevation\n",
    "import re\n",
    "import shutil\n",
    "from tqdm import tqdm\n",
    "from MasterThesis import EDA\n",
    "import multiprocessing as mp"
   ]
  },
  {
   "cell_type": "code",
   "execution_count": 2,
   "metadata": {},
   "outputs": [],
   "source": [
    "path_to_data = \"/media/omar/storage/gdrive/Maestria/Datasets/GeoDataset\" "
   ]
  },
  {
   "cell_type": "code",
   "execution_count": 3,
   "metadata": {},
   "outputs": [
    {
     "data": {
      "text/html": [
       "<div>\n",
       "<style scoped>\n",
       "    .dataframe tbody tr th:only-of-type {\n",
       "        vertical-align: middle;\n",
       "    }\n",
       "\n",
       "    .dataframe tbody tr th {\n",
       "        vertical-align: top;\n",
       "    }\n",
       "\n",
       "    .dataframe thead th {\n",
       "        text-align: right;\n",
       "    }\n",
       "</style>\n",
       "<table border=\"1\" class=\"dataframe\">\n",
       "  <thead>\n",
       "    <tr style=\"text-align: right;\">\n",
       "      <th></th>\n",
       "      <th>image</th>\n",
       "    </tr>\n",
       "  </thead>\n",
       "  <tbody>\n",
       "    <tr>\n",
       "      <th>0</th>\n",
       "      <td>18NTN/18NTN_8_5/(0, 0)</td>\n",
       "    </tr>\n",
       "    <tr>\n",
       "      <th>1</th>\n",
       "      <td>18NTN/18NTN_8_5/(0, 100)</td>\n",
       "    </tr>\n",
       "    <tr>\n",
       "      <th>2</th>\n",
       "      <td>18NTN/18NTN_8_5/(0, 200)</td>\n",
       "    </tr>\n",
       "    <tr>\n",
       "      <th>3</th>\n",
       "      <td>18NTN/18NTN_8_5/(0, 300)</td>\n",
       "    </tr>\n",
       "    <tr>\n",
       "      <th>4</th>\n",
       "      <td>18NTN/18NTN_8_5/(0, 400)</td>\n",
       "    </tr>\n",
       "    <tr>\n",
       "      <th>...</th>\n",
       "      <td>...</td>\n",
       "    </tr>\n",
       "    <tr>\n",
       "      <th>59725</th>\n",
       "      <td>18PWQ/18PWQ_2_9/(900, 500)</td>\n",
       "    </tr>\n",
       "    <tr>\n",
       "      <th>59726</th>\n",
       "      <td>18PWQ/18PWQ_2_9/(900, 600)</td>\n",
       "    </tr>\n",
       "    <tr>\n",
       "      <th>59727</th>\n",
       "      <td>18PWQ/18PWQ_2_9/(900, 700)</td>\n",
       "    </tr>\n",
       "    <tr>\n",
       "      <th>59728</th>\n",
       "      <td>18PWQ/18PWQ_2_9/(900, 800)</td>\n",
       "    </tr>\n",
       "    <tr>\n",
       "      <th>59729</th>\n",
       "      <td>18PWQ/18PWQ_2_9/(900, 900)</td>\n",
       "    </tr>\n",
       "  </tbody>\n",
       "</table>\n",
       "<p>59730 rows × 1 columns</p>\n",
       "</div>"
      ],
      "text/plain": [
       "                            image\n",
       "0          18NTN/18NTN_8_5/(0, 0)\n",
       "1        18NTN/18NTN_8_5/(0, 100)\n",
       "2        18NTN/18NTN_8_5/(0, 200)\n",
       "3        18NTN/18NTN_8_5/(0, 300)\n",
       "4        18NTN/18NTN_8_5/(0, 400)\n",
       "...                           ...\n",
       "59725  18PWQ/18PWQ_2_9/(900, 500)\n",
       "59726  18PWQ/18PWQ_2_9/(900, 600)\n",
       "59727  18PWQ/18PWQ_2_9/(900, 700)\n",
       "59728  18PWQ/18PWQ_2_9/(900, 800)\n",
       "59729  18PWQ/18PWQ_2_9/(900, 900)\n",
       "\n",
       "[59730 rows x 1 columns]"
      ]
     },
     "execution_count": 3,
     "metadata": {},
     "output_type": "execute_result"
    }
   ],
   "source": [
    "metadata = pd.read_csv(\"/media/omar/storage/gdrive/Maestria/Theses/Preprocessing/metadata_raw_images.csv\")\n",
    "metadata = pd.read_csv(\"/media/omar/storage/gdrive/Maestria/Datasets/GeoDataset/metadata_v2/metadata.csv\", usecols=[\"Image\"])\n",
    "metadata.Image = metadata.Image.str.replace(\"/chip.npy\", \"\", regex=False)\n",
    "metadata.rename({\"Image\": \"image\"}, axis=1, inplace=True)\n",
    "# patches = ['18NTN', '18NTP', '18NUL', '18NUM', '18NUN', '18NUP']\n",
    "# metadata = metadata.query(\"patch in ['18NTN', '18NTP', '18NUL', '18NUM', '18NUN', '18NUP']\")\n",
    "# metadata = metadata.query(\"patch in ['18NTN', '18NTP', '18NUL']\")\n",
    "metadata"
   ]
  },
  {
   "cell_type": "code",
   "execution_count": 24,
   "metadata": {},
   "outputs": [],
   "source": [
    "def get_elevation_map(path_to_metadata, path_to_save_map):\n",
    "\n",
    "    corners = pd.read_pickle(path_to_metadata)[\"corners\"]\n",
    "    west, north = corners[\"nw\"][::-1]\n",
    "    east, south = corners[\"se\"][::-1]\n",
    "\n",
    "    elevation.clip(bounds=(west, south, east, north), output=f\"{path_to_save_map}\", margin=\"1%\")\n",
    "    elevation.clean()\n",
    "\n",
    "    clear_output()"
   ]
  },
  {
   "cell_type": "code",
   "execution_count": 25,
   "metadata": {},
   "outputs": [],
   "source": [
    "path_to_metadata = \"/media/omar/storage/gdrive/Maestria/Datasets/GeoDataset/Dataset/18NVK/18NVK_0_1/(0, 0)/metadata.pkl\"\n",
    "path_to_save_map =  f\"{path_to_data}/Elevations/elevation.tif\"\n",
    "get_elevation_map(path_to_metadata, path_to_save_map)"
   ]
  },
  {
   "cell_type": "code",
   "execution_count": 26,
   "metadata": {},
   "outputs": [],
   "source": [
    "path = \"/media/omar/storage/gdrive/Maestria/Datasets/GeoDataset/Dataset/18NTN/18NTN_8_5/(0, 400)/metadata.pkl\"\n",
    "save_path = f\"{path_to_data}/Elevations/elevation.tif\"\n",
    "#get_elevation_map(path, save_path)"
   ]
  },
  {
   "cell_type": "code",
   "execution_count": 27,
   "metadata": {},
   "outputs": [
    {
     "data": {
      "text/plain": [
       "(33, 33)"
      ]
     },
     "execution_count": 27,
     "metadata": {},
     "output_type": "execute_result"
    }
   ],
   "source": [
    "EDA.read_geotiff_image(\"/media/omar/storage/gdrive/Maestria/Datasets/GeoDataset/Elevations/elevation.tif\").shape"
   ]
  },
  {
   "cell_type": "code",
   "execution_count": 28,
   "metadata": {},
   "outputs": [
    {
     "name": "stdout",
     "output_type": "stream",
     "text": [
      "\u001b[0;31mSignature:\u001b[0m \u001b[0melevation\u001b[0m\u001b[0;34m.\u001b[0m\u001b[0mclip\u001b[0m\u001b[0;34m(\u001b[0m\u001b[0mbounds\u001b[0m\u001b[0;34m,\u001b[0m \u001b[0moutput\u001b[0m\u001b[0;34m=\u001b[0m\u001b[0;34m'out.tif'\u001b[0m\u001b[0;34m,\u001b[0m \u001b[0mmargin\u001b[0m\u001b[0;34m=\u001b[0m\u001b[0;34m'0'\u001b[0m\u001b[0;34m,\u001b[0m \u001b[0;34m**\u001b[0m\u001b[0mkwargs\u001b[0m\u001b[0;34m)\u001b[0m\u001b[0;34m\u001b[0m\u001b[0;34m\u001b[0m\u001b[0m\n",
      "\u001b[0;31mDocstring:\u001b[0m\n",
      "Clip the DEM to given bounds.\n",
      "\n",
      ":param bounds: Output bounds in 'left bottom right top' order.\n",
      ":param output: Path to output file. Existing files will be overwritten.\n",
      ":param margin: Decimal degree margin added to the bounds. Use '%' for percent margin.\n",
      ":param cache_dir: Root of the DEM cache folder.\n",
      ":param product: DEM product choice.\n",
      "\u001b[0;31mFile:\u001b[0m      ~/.pyenv/versions/3.7.13/envs/MasterThesis/lib/python3.7/site-packages/elevation/datasource.py\n",
      "\u001b[0;31mType:\u001b[0m      function\n"
     ]
    }
   ],
   "source": [
    "elevation.clip?"
   ]
  },
  {
   "cell_type": "code",
   "execution_count": null,
   "metadata": {},
   "outputs": [],
   "source": [
    "letters=\"ABCDEFGHIJKLMNOPQRSTUVWXYZ\"\n",
    "letters_map=[{l:i for i, l in enumerate(letters)}][0]"
   ]
  },
  {
   "cell_type": "code",
   "execution_count": null,
   "metadata": {},
   "outputs": [],
   "source": [
    "def generate_elevation_maps(metadata):\n",
    "\n",
    "    metadata_elevations = []\n",
    "    for path in tqdm(metadata.image):\n",
    "        print(path)\n",
    "        if not os.path.isdir(f\"{path_to_data}/Elevations/{path}\"):\n",
    "            os.makedirs(f\"{path_to_data}/Elevations/{path}\")\n",
    "\n",
    "        get_elevation_map(f\"{path_to_data}/Dataset/{path}/metadata.pkl\", f\"{path_to_data}/Elevations/elevation.tif\")\n",
    "\n",
    "        if not os.path.isdir(f\"{path_to_data}/sentinel_geo_images/{path}\"):\n",
    "            os.makedirs(f\"{path_to_data}/sentinel_geo_images/{path}\")\n",
    "\n",
    "        #img = read_numpy_image(f\"{path_to_data}/Dataset/{path}/chip.npy\")\n",
    "        #from_array_to_geotiff(f\"{path_to_data}/sentinel_geo_images/{path}/chip.tif\", img[:3], f\"{path_to_data}/Dataset/{path}/metadata.pkl\", crs=3116)\n",
    "\n",
    "        shutil.move(f\"{path_to_data}/Elevations/elevation.tif\", f\"{path_to_data}/Elevations/{path}/elevation.tif\")\n",
    "\n",
    "        id_number = re.sub(r\"[a-zA-Z_\\(\\)\\,\\\\\\/\\s+]\", \"\", path)\n",
    "        id_letter = re.sub(r\"[\\d_\\(\\)\\,\\\\\\/\\s+]\", \"\", path)\n",
    "        id_letter = \"\".join(str(letters_map[l]) for l in id_letter[:3])\n",
    "        id = int(id_number + id_letter)\n",
    "        metadata_elevations.append({\"Id\":id, \"Elevation\":f\"{path}/elevation.tif\", \"Image\":f\"{path}/chip.npy\"})\n",
    "        \n",
    "\n",
    "    return pd.DataFrame(metadata_elevations)"
   ]
  },
  {
   "cell_type": "code",
   "execution_count": null,
   "metadata": {},
   "outputs": [],
   "source": [
    "metadata_elevations = generate_elevation_maps(metadata)"
   ]
  },
  {
   "cell_type": "code",
   "execution_count": null,
   "metadata": {},
   "outputs": [],
   "source": []
  },
  {
   "cell_type": "code",
   "execution_count": null,
   "metadata": {},
   "outputs": [],
   "source": []
  },
  {
   "cell_type": "code",
   "execution_count": null,
   "metadata": {},
   "outputs": [],
   "source": [
    "print(metadata_elevations.shape)\n",
    "metadata_elevations.to_csv(\"/media/omar/storage/gdrive/Maestria/Datasets/GeoDataset/Elevations/metadata.csv\",index=False)\n",
    "metadata_elevations.head()"
   ]
  },
  {
   "cell_type": "code",
   "execution_count": null,
   "metadata": {},
   "outputs": [],
   "source": [
    "i = 112\n",
    "\n",
    "fig, ax = plt.subplots(1, 2, figsize = (10, 10))\n",
    "ax[0].imshow(read_geotiff_image(f\"{path_to_data}/Elevations/{metadata_elevations.Elevation[i]}\"))\n",
    "img = read_numpy_image(f\"{path_to_data}/Dataset/{metadata_elevations.Image[i]}\")\n",
    "ax[1].imshow(np.clip(img[:3].transpose(1, 2, 0), 0, 6000) / 6000)\n",
    "\n",
    "\n"
   ]
  },
  {
   "cell_type": "code",
   "execution_count": null,
   "metadata": {},
   "outputs": [],
   "source": []
  },
  {
   "cell_type": "code",
   "execution_count": null,
   "metadata": {},
   "outputs": [],
   "source": []
  }
 ],
 "metadata": {
  "kernelspec": {
   "display_name": "Python 3.7.13 64-bit ('MasterThesis')",
   "language": "python",
   "name": "python3"
  },
  "language_info": {
   "codemirror_mode": {
    "name": "ipython",
    "version": 3
   },
   "file_extension": ".py",
   "mimetype": "text/x-python",
   "name": "python",
   "nbconvert_exporter": "python",
   "pygments_lexer": "ipython3",
   "version": "3.7.13"
  },
  "orig_nbformat": 4,
  "vscode": {
   "interpreter": {
    "hash": "81ba9a1503424c443a7bc1e1bbe8d83e046e09a72ec9317cd76d572ac910684c"
   }
  }
 },
 "nbformat": 4,
 "nbformat_minor": 2
}
