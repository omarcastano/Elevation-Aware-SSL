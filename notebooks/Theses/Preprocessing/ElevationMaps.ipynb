{
    "cells": [
        {
            "cell_type": "code",
            "execution_count": null,
            "metadata": {},
            "outputs": [],
            "source": [
                "from elevation_aware_ssl.EDA import read_geotiff_image, read_numpy_image, less_cloudy_image\n",
                "from elevation_aware_ssl.preprocessing import from_array_to_geotiff\n",
                "import matplotlib.pyplot as plt\n",
                "import pandas as pd\n",
                "from IPython.display import clear_output\n",
                "import numpy as np\n",
                "import os\n",
                "import sys\n",
                "import elevation\n",
                "import re\n",
                "import shutil\n",
                "from tqdm import tqdm\n",
                "from elevation_aware_ssl import EDA\n",
                "import multiprocessing as mp"
            ]
        },
        {
            "cell_type": "code",
            "execution_count": null,
            "metadata": {},
            "outputs": [],
            "source": [
                "path_to_data = \"/media/omar/storage/gdrive/Maestria/Datasets/GeoDataset\" "
            ]
        },
        {
            "cell_type": "code",
            "execution_count": null,
            "metadata": {},
            "outputs": [],
            "source": [
                "metadata = pd.read_csv(\"/media/omar/storage/gdrive/Maestria/Theses/Preprocessing/metadata_raw_images.csv\")\n",
                "metadata = pd.read_csv(\"/media/omar/storage/gdrive/Maestria/Datasets/GeoDataset/metadata_v2/metadata.csv\", usecols=[\"Image\"])\n",
                "metadata.Image = metadata.Image.str.replace(\"/chip.npy\", \"\", regex=False)\n",
                "metadata.rename({\"Image\": \"image\"}, axis=1, inplace=True)\n",
                "# patches = ['18NTN', '18NTP', '18NUL', '18NUM', '18NUN', '18NUP']\n",
                "# metadata = metadata.query(\"patch in ['18NTN', '18NTP', '18NUL', '18NUM', '18NUN', '18NUP']\")\n",
                "# metadata = metadata.query(\"patch in ['18NTN', '18NTP', '18NUL']\")\n",
                "metadata"
            ]
        },
        {
            "cell_type": "code",
            "execution_count": null,
            "metadata": {},
            "outputs": [],
            "source": [
                "def get_elevation_map(path_to_metadata, path_to_save_map):\n",
                "\n",
                "    corners = pd.read_pickle(path_to_metadata)[\"corners\"]\n",
                "    west, north = corners[\"nw\"][::-1]\n",
                "    east, south = corners[\"se\"][::-1]\n",
                "\n",
                "    elevation.clip(bounds=(west, south, east, north), output=f\"{path_to_save_map}\", margin=\"1%\")\n",
                "    elevation.clean()\n",
                "\n",
                "    clear_output()"
            ]
        },
        {
            "cell_type": "code",
            "execution_count": null,
            "metadata": {},
            "outputs": [],
            "source": [
                "path_to_metadata = \"/media/omar/storage/gdrive/Maestria/Datasets/GeoDataset/Dataset/18NVK/18NVK_0_1/(0, 0)/metadata.pkl\"\n",
                "path_to_save_map =  f\"{path_to_data}/Elevations/elevation.tif\"\n",
                "get_elevation_map(path_to_metadata, path_to_save_map)"
            ]
        },
        {
            "cell_type": "code",
            "execution_count": null,
            "metadata": {},
            "outputs": [],
            "source": [
                "path = \"/media/omar/storage/gdrive/Maestria/Datasets/GeoDataset/Dataset/18NTN/18NTN_8_5/(0, 400)/metadata.pkl\"\n",
                "save_path = f\"{path_to_data}/Elevations/elevation.tif\"\n",
                "#get_elevation_map(path, save_path)"
            ]
        },
        {
            "cell_type": "code",
            "execution_count": null,
            "metadata": {},
            "outputs": [],
            "source": [
                "EDA.read_geotiff_image(\"/media/omar/storage/gdrive/Maestria/Datasets/GeoDataset/Elevations/elevation.tif\").shape"
            ]
        },
        {
            "cell_type": "code",
            "execution_count": null,
            "metadata": {},
            "outputs": [],
            "source": [
                "letters=\"ABCDEFGHIJKLMNOPQRSTUVWXYZ\"\n",
                "letters_map=[{l:i for i, l in enumerate(letters)}][0]"
            ]
        },
        {
            "cell_type": "code",
            "execution_count": null,
            "metadata": {},
            "outputs": [],
            "source": [
                "def generate_elevation_maps(metadata):\n",
                "\n",
                "    metadata_elevations = []\n",
                "    for path in tqdm(metadata.image):\n",
                "        print(path)\n",
                "        if not os.path.isdir(f\"{path_to_data}/Elevations/{path}\"):\n",
                "            os.makedirs(f\"{path_to_data}/Elevations/{path}\")\n",
                "\n",
                "        get_elevation_map(f\"{path_to_data}/Dataset/{path}/metadata.pkl\", f\"{path_to_data}/Elevations/elevation.tif\")\n",
                "\n",
                "        if not os.path.isdir(f\"{path_to_data}/sentinel_geo_images/{path}\"):\n",
                "            os.makedirs(f\"{path_to_data}/sentinel_geo_images/{path}\")\n",
                "\n",
                "        #img = read_numpy_image(f\"{path_to_data}/Dataset/{path}/chip.npy\")\n",
                "        #from_array_to_geotiff(f\"{path_to_data}/sentinel_geo_images/{path}/chip.tif\", img[:3], f\"{path_to_data}/Dataset/{path}/metadata.pkl\", crs=3116)\n",
                "\n",
                "        shutil.move(f\"{path_to_data}/Elevations/elevation.tif\", f\"{path_to_data}/Elevations/{path}/elevation.tif\")\n",
                "\n",
                "        id_number = re.sub(r\"[a-zA-Z_\\(\\)\\,\\\\\\/\\s+]\", \"\", path)\n",
                "        id_letter = re.sub(r\"[\\d_\\(\\)\\,\\\\\\/\\s+]\", \"\", path)\n",
                "        id_letter = \"\".join(str(letters_map[l]) for l in id_letter[:3])\n",
                "        id = int(id_number + id_letter)\n",
                "        metadata_elevations.append({\"Id\":id, \"Elevation\":f\"{path}/elevation.tif\", \"Image\":f\"{path}/chip.npy\"})\n",
                "        \n",
                "\n",
                "    return pd.DataFrame(metadata_elevations)"
            ]
        },
        {
            "cell_type": "code",
            "execution_count": null,
            "metadata": {},
            "outputs": [],
            "source": [
                "metadata_elevations = generate_elevation_maps(metadata)"
            ]
        }
    ],
    "metadata": {
        "kernelspec": {
            "display_name": "Python 3.7.13 64-bit ('elevation_aware_ssl')",
            "language": "python",
            "name": "python3"
        },
        "language_info": {
            "codemirror_mode": {
                "name": "ipython",
                "version": 3
            },
            "file_extension": ".py",
            "mimetype": "text/x-python",
            "name": "python",
            "nbconvert_exporter": "python",
            "pygments_lexer": "ipython3",
            "version": "3.7.13"
        },
        "orig_nbformat": 4,
        "vscode": {
            "interpreter": {
                "hash": "81ba9a1503424c443a7bc1e1bbe8d83e046e09a72ec9317cd76d572ac910684c"
            }
        }
    },
    "nbformat": 4,
    "nbformat_minor": 2
}
