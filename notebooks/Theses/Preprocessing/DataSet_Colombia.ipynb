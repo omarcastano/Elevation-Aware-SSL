{
    "cells": [
        {
            "cell_type": "markdown",
            "metadata": {
                "id": "fc9MhPBzVZw4"
            },
            "source": [
                "### Shapefiles content\n",
                "\n",
                "- .shp - shapefile - geometry\n",
                "- .dbf - database - metadata\n",
                "- .prj - projection\n",
                "- .shx - index"
            ]
        },
        {
            "cell_type": "code",
            "execution_count": null,
            "metadata": {
                "executionInfo": {
                    "elapsed": 642,
                    "status": "ok",
                    "timestamp": 1652238288148,
                    "user": {
                        "displayName": "OMAR ANDRES CASTAÑO IDARRAGA",
                        "userId": "02036237685860066032"
                    },
                    "user_tz": 300
                },
                "id": "nza0pOYQ-OHH"
            },
            "outputs": [],
            "source": [
                "#Import geopandas\n",
                "import geopandas as gpd\n",
                "import matplotlib.pyplot as plt\n",
                "import pyproj\n",
                "import pandas as pd\n",
                "#import h5py    \n",
                "import os\n",
                "import numpy as np"
            ]
        },
        {
            "cell_type": "code",
            "execution_count": null,
            "metadata": {
                "colab": {
                    "base_uri": "https://localhost:8080/",
                    "height": 238
                },
                "executionInfo": {
                    "elapsed": 5423,
                    "status": "ok",
                    "timestamp": 1652238296671,
                    "user": {
                        "displayName": "OMAR ANDRES CASTAÑO IDARRAGA",
                        "userId": "02036237685860066032"
                    },
                    "user_tz": 300
                },
                "id": "xPPTcyD3_UgN",
                "outputId": "e539e887-4d30-47a2-eac0-d268f266d6ce"
            },
            "outputs": [],
            "source": [
                "dataset = gpd.read_file(\"/media/omar/storage/gdrive/Maestria/Datasets/Fronetra_Agricola_prueba/Frontera_agricola_prueba.shp\")\n",
                "# dataset.set_index(\"DeNombre\", inplace=True)\n",
                "# dataset.to_crs(pyproj.CRS.from_epsg(4326), inplace=True)\n",
                "dataset.elemento = dataset.elemento.map(\n",
                "    {\n",
                "        \"Frontera agrícola nacional\": \"National Agricultural Frontier\",\n",
                "        \"Bosques naturales y áreas no agropecuarias\": \"Natural forest and non-agricultural areas\",\n",
                "        \"Exclusiones legales\": \"Legal exclusions\",\n",
                "    }\n",
                ")\n",
                "dataset.head()"
            ]
        },
        {
            "cell_type": "code",
            "execution_count": null,
            "metadata": {
                "colab": {
                    "base_uri": "https://localhost:8080/"
                },
                "executionInfo": {
                    "elapsed": 4,
                    "status": "ok",
                    "timestamp": 1652238296671,
                    "user": {
                        "displayName": "OMAR ANDRES CASTAÑO IDARRAGA",
                        "userId": "02036237685860066032"
                    },
                    "user_tz": 300
                },
                "id": "HP-lOMvM7tqm",
                "outputId": "90489e2b-f4bd-4662-f398-d298f56defdd"
            },
            "outputs": [],
            "source": [
                "dataset.crs"
            ]
        },
        {
            "cell_type": "markdown",
            "metadata": {
                "id": "xoshwta1NxeT"
            },
            "source": [
                "\n",
                "\n",
                "```\n",
                "import plotly.express as px\n",
                "fig = px.choropleth(dataset,\n",
                "                   geojson=dataset.geometry,\n",
                "                   locations=dataset.index,\n",
                "                    color=\"OBJECTID\", width  = 500, height=500)\n",
                "fig.update_geos(fitbounds=\"locations\", visible=False)\n",
                "fig.show()\n",
                "```\n",
                "\n"
            ]
        },
        {
            "cell_type": "code",
            "execution_count": null,
            "metadata": {
                "colab": {
                    "base_uri": "https://localhost:8080/",
                    "height": 609
                },
                "executionInfo": {
                    "elapsed": 892,
                    "status": "ok",
                    "timestamp": 1652238297560,
                    "user": {
                        "displayName": "OMAR ANDRES CASTAÑO IDARRAGA",
                        "userId": "02036237685860066032"
                    },
                    "user_tz": 300
                },
                "id": "p7M71usNNiPp",
                "outputId": "fba6864b-715e-45a7-908f-d1ea020ff06c"
            },
            "outputs": [],
            "source": [
                "dataset.plot(figsize=(15,10), cmap=\"Set3\", column=\"elemento\", legend=True)\n",
                "plt.axis(\"off\")"
            ]
        },
        {
            "cell_type": "code",
            "execution_count": null,
            "metadata": {
                "colab": {
                    "base_uri": "https://localhost:8080/"
                },
                "executionInfo": {
                    "elapsed": 360,
                    "status": "ok",
                    "timestamp": 1652238297919,
                    "user": {
                        "displayName": "OMAR ANDRES CASTAÑO IDARRAGA",
                        "userId": "02036237685860066032"
                    },
                    "user_tz": 300
                },
                "id": "EJzqNbxBPKdz",
                "outputId": "cb08f6fa-64de-4f44-bf0a-4c7cdc11ce49"
            },
            "outputs": [],
            "source": [
                "#read hdf file\n",
                "colombia_crop_chips = h5py.File(\"/content/drive/MyDrive/2021-MAESTRIA-OMAR-CASTAÑO/earth observation datasets/sentinel 2 - colombia north west 290GB/colombia_crop_chips.hdf\")\n",
                "np.array(colombia_crop_chips['data'])"
            ]
        },
        {
            "cell_type": "markdown",
            "metadata": {
                "id": "DilOTqJVF3Sn"
            },
            "source": [
                "## Loading chips"
            ]
        },
        {
            "cell_type": "code",
            "execution_count": null,
            "metadata": {
                "executionInfo": {
                    "elapsed": 2,
                    "status": "ok",
                    "timestamp": 1652238297920,
                    "user": {
                        "displayName": "OMAR ANDRES CASTAÑO IDARRAGA",
                        "userId": "02036237685860066032"
                    },
                    "user_tz": 300
                },
                "id": "J75bwM9gPTjn"
            },
            "outputs": [],
            "source": [
                "#Chip path\n",
                "chip_path = '/content/drive/MyDrive/2021-MAESTRIA-OMAR-CASTAÑO/earth observation datasets/sentinel 2 - colombia north west 290GB/data/colombia/s2_data/01_L1_colombia__2019-01-01__2021-05-30/18NTN/18NTN_8_5/(0, 200)/'"
            ]
        },
        {
            "cell_type": "code",
            "execution_count": null,
            "metadata": {
                "colab": {
                    "base_uri": "https://localhost:8080/"
                },
                "executionInfo": {
                    "elapsed": 4417,
                    "status": "ok",
                    "timestamp": 1652238302335,
                    "user": {
                        "displayName": "OMAR ANDRES CASTAÑO IDARRAGA",
                        "userId": "02036237685860066032"
                    },
                    "user_tz": 300
                },
                "id": "YBuDBHIaUN3A",
                "outputId": "2be2b8aa-d07d-4be3-e539-3abdcd9c2d1b"
            },
            "outputs": [],
            "source": [
                "#Read metadata\n",
                "chip_metadata = pd.read_pickle(chip_path + 'metadata.pkl')\n",
                "chip_metadata"
            ]
        },
        {
            "cell_type": "code",
            "execution_count": null,
            "metadata": {
                "colab": {
                    "base_uri": "https://localhost:8080/"
                },
                "executionInfo": {
                    "elapsed": 708,
                    "status": "ok",
                    "timestamp": 1652238303035,
                    "user": {
                        "displayName": "OMAR ANDRES CASTAÑO IDARRAGA",
                        "userId": "02036237685860066032"
                    },
                    "user_tz": 300
                },
                "id": "A9TwDBoTTYpl",
                "outputId": "a8323636-0aba-4ac0-e297-645568e70a70"
            },
            "outputs": [],
            "source": [
                "#Load chip\n",
                "chip = np.load(chip_path + 'chip.npz')\n",
                "chip.files"
            ]
        },
        {
            "cell_type": "code",
            "execution_count": null,
            "metadata": {
                "colab": {
                    "base_uri": "https://localhost:8080/"
                },
                "executionInfo": {
                    "elapsed": 655,
                    "status": "ok",
                    "timestamp": 1652238303689,
                    "user": {
                        "displayName": "OMAR ANDRES CASTAÑO IDARRAGA",
                        "userId": "02036237685860066032"
                    },
                    "user_tz": 300
                },
                "id": "fHgE1_pv7Bfk",
                "outputId": "ac76098e-7e17-451c-9e99-1222d349256a"
            },
            "outputs": [],
            "source": [
                "#Chip shape\n",
                "chip['arr_0'].shape"
            ]
        },
        {
            "cell_type": "code",
            "execution_count": null,
            "metadata": {
                "colab": {
                    "base_uri": "https://localhost:8080/"
                },
                "executionInfo": {
                    "elapsed": 302,
                    "status": "ok",
                    "timestamp": 1652238303990,
                    "user": {
                        "displayName": "OMAR ANDRES CASTAÑO IDARRAGA",
                        "userId": "02036237685860066032"
                    },
                    "user_tz": 300
                },
                "id": "eehg5JTkEvVS",
                "outputId": "a323a3c3-bd9f-4e3a-98da-8166c80aa565"
            },
            "outputs": [],
            "source": [
                "chip['arr_0'].min()"
            ]
        },
        {
            "cell_type": "code",
            "execution_count": null,
            "metadata": {
                "colab": {
                    "base_uri": "https://localhost:8080/"
                },
                "executionInfo": {
                    "elapsed": 3,
                    "status": "ok",
                    "timestamp": 1652238303990,
                    "user": {
                        "displayName": "OMAR ANDRES CASTAÑO IDARRAGA",
                        "userId": "02036237685860066032"
                    },
                    "user_tz": 300
                },
                "id": "l6Dah5jJEzOM",
                "outputId": "86bb715c-beb3-4336-cb94-8a4b0621e300"
            },
            "outputs": [],
            "source": [
                "chip['arr_0'].max()"
            ]
        },
        {
            "cell_type": "code",
            "execution_count": null,
            "metadata": {
                "colab": {
                    "base_uri": "https://localhost:8080/"
                },
                "executionInfo": {
                    "elapsed": 216,
                    "status": "ok",
                    "timestamp": 1652238624237,
                    "user": {
                        "displayName": "OMAR ANDRES CASTAÑO IDARRAGA",
                        "userId": "02036237685860066032"
                    },
                    "user_tz": 300
                },
                "id": "nhq2WhwUFzVy",
                "outputId": "f38d9032-666f-4316-800b-fa076e0a2878"
            },
            "outputs": [],
            "source": [
                "chip['arr_0'][:,0:3,:,:].max()"
            ]
        },
        {
            "cell_type": "code",
            "execution_count": null,
            "metadata": {
                "colab": {
                    "base_uri": "https://localhost:8080/",
                    "height": 285
                },
                "executionInfo": {
                    "elapsed": 604,
                    "status": "ok",
                    "timestamp": 1652238802006,
                    "user": {
                        "displayName": "OMAR ANDRES CASTAÑO IDARRAGA",
                        "userId": "02036237685860066032"
                    },
                    "user_tz": 300
                },
                "id": "d9XgA2rFG0kj",
                "outputId": "165de6d3-e144-47bf-babd-4903d54f7429"
            },
            "outputs": [],
            "source": [
                "plt.imshow(chip['arr_0'][7][0:3].transpose(1,2,0)/4095)"
            ]
        },
        {
            "cell_type": "code",
            "execution_count": null,
            "metadata": {
                "colab": {
                    "base_uri": "https://localhost:8080/",
                    "height": 285
                },
                "executionInfo": {
                    "elapsed": 805,
                    "status": "ok",
                    "timestamp": 1652238800338,
                    "user": {
                        "displayName": "OMAR ANDRES CASTAÑO IDARRAGA",
                        "userId": "02036237685860066032"
                    },
                    "user_tz": 300
                },
                "id": "2VEP8cB3FXSc",
                "outputId": "01182fab-6bf8-41dd-98b0-a627ddefd8db"
            },
            "outputs": [],
            "source": [
                "plt.imshow(chip['arr_0'][7][0:3].transpose(1,2,0)/10000)"
            ]
        },
        {
            "cell_type": "code",
            "execution_count": null,
            "metadata": {
                "colab": {
                    "base_uri": "https://localhost:8080/"
                },
                "executionInfo": {
                    "elapsed": 8044,
                    "status": "ok",
                    "timestamp": 1652238312033,
                    "user": {
                        "displayName": "OMAR ANDRES CASTAÑO IDARRAGA",
                        "userId": "02036237685860066032"
                    },
                    "user_tz": 300
                },
                "id": "mozqfaxG7TJi",
                "outputId": "fac0cdcf-24fd-4db1-ccba-c0be0a6c450d"
            },
            "outputs": [],
            "source": [
                "#Load library to plot Earth observations\n",
                "!pip install earthpy\n",
                "import earthpy as et\n",
                "import earthpy.spatial as es\n",
                "import earthpy.plot as ep"
            ]
        },
        {
            "cell_type": "code",
            "execution_count": null,
            "metadata": {
                "colab": {
                    "base_uri": "https://localhost:8080/",
                    "height": 710
                },
                "executionInfo": {
                    "elapsed": 1825,
                    "status": "ok",
                    "timestamp": 1651499401953,
                    "user": {
                        "displayName": "OMAR ANDRES CASTAÑO IDARRAGA",
                        "userId": "02036237685860066032"
                    },
                    "user_tz": 300
                },
                "id": "fvaYWlPR7hNH",
                "outputId": "efb0fe24-54f2-4411-d67a-0c17b88947ea"
            },
            "outputs": [],
            "source": [
                "#Plot chips\n",
                "one_chip=chip['arr_0'][0]\n",
                "ep.plot_bands(one_chip, cols=6, scale=True, cbar=False, figsize=(25,10));"
            ]
        },
        {
            "cell_type": "code",
            "execution_count": null,
            "metadata": {
                "colab": {
                    "base_uri": "https://localhost:8080/",
                    "height": 432
                },
                "executionInfo": {
                    "elapsed": 5,
                    "status": "ok",
                    "timestamp": 1651499401954,
                    "user": {
                        "displayName": "OMAR ANDRES CASTAÑO IDARRAGA",
                        "userId": "02036237685860066032"
                    },
                    "user_tz": 300
                },
                "id": "Abivr0QQT3lm",
                "outputId": "363faeb3-5f57-4205-b13f-b99d1526b3b2"
            },
            "outputs": [],
            "source": [
                "#Plot rgb image\n",
                "ep.plot_rgb(one_chip, rgb=(0,1,2), stretch=True, str_clip=0.5, figsize=(7, 7))"
            ]
        },
        {
            "cell_type": "code",
            "execution_count": null,
            "metadata": {
                "id": "BKRWkjWiFT-A"
            },
            "outputs": [],
            "source": []
        },
        {
            "cell_type": "markdown",
            "metadata": {
                "id": "xa5gIG7wF6XS"
            },
            "source": [
                "## Loading Time Stamps"
            ]
        },
        {
            "cell_type": "code",
            "execution_count": null,
            "metadata": {
                "colab": {
                    "base_uri": "https://localhost:8080/"
                },
                "executionInfo": {
                    "elapsed": 318,
                    "status": "ok",
                    "timestamp": 1651499402268,
                    "user": {
                        "displayName": "OMAR ANDRES CASTAÑO IDARRAGA",
                        "userId": "02036237685860066032"
                    },
                    "user_tz": 300
                },
                "id": "SbP1MGS0C2we",
                "outputId": "75b15894-3266-4443-f120-1a137d49bc04"
            },
            "outputs": [],
            "source": [
                "##load timestamp\n",
                "timestamp = np.load(chip_path+'timestamps.npz')\n",
                "timestamp.files"
            ]
        },
        {
            "cell_type": "code",
            "execution_count": null,
            "metadata": {
                "colab": {
                    "base_uri": "https://localhost:8080/"
                },
                "executionInfo": {
                    "elapsed": 5,
                    "status": "ok",
                    "timestamp": 1651499402269,
                    "user": {
                        "displayName": "OMAR ANDRES CASTAÑO IDARRAGA",
                        "userId": "02036237685860066032"
                    },
                    "user_tz": 300
                },
                "id": "ZuCh3RkdGmcG",
                "outputId": "3500bcd3-8f64-4ea1-d63c-b08f4bd40b8f"
            },
            "outputs": [],
            "source": [
                "#Print timestamps\n",
                "timestamp['arr_0']"
            ]
        },
        {
            "cell_type": "markdown",
            "metadata": {
                "id": "fQiCRFc-S1l2"
            },
            "source": [
                "# Create Shapefiel from latitud and longitud"
            ]
        },
        {
            "cell_type": "code",
            "execution_count": null,
            "metadata": {
                "id": "n7YBFY9IDGyY"
            },
            "outputs": [],
            "source": [
                "def create_shapefiel_from_polygons(path_to_chip_metadata:str, chip_name:str, path_to_save:str=None, crs:str='epsg:4326'):\n",
                "\n",
                "    \"\"\"\n",
                "    Function that allow you to create a shapefile from chip corners cordinates.\n",
                "    Args:\n",
                "        path_to_chip_metadata: string\n",
                "            path to the chip metadata file which muste \n",
                "            be in pickle format. \n",
                "        chip_name: string\n",
                "            names associated with the chip\n",
                "        path_to_save: string, optional (default=None)\n",
                "             path to save the shapefile.\n",
                "        crs: string, optional (default='epsg:4326')\n",
                "            projection for the output shapefile\n",
                "    \"\"\"\n",
                "    chip_metadata = pd.read_pickle(path_to_chip_metadata)\n",
                "\n",
                "    #Defien coordinates\n",
                "    nw = chip_metadata['corners']['nw'][::-1]\n",
                "    se = chip_metadata['corners']['se'][::-1]\n",
                "    ne = np.array([nw[0],  se[1]])\n",
                "    sw = np.array([se[0],  nw[1]])\n",
                "    \n",
                "    nw = nw + np.sign(nw)*0.001\n",
                "    #se = se + np.sign(se)*0.1\n",
                "    #ne = ne + np.sign(ne)*0.1\n",
                "    #sw = sw + np.sign(sw)*0.1\n",
                "\n",
                "    coordinates = [sw, nw, ne, se]\n",
                "\n",
                "    polygon = Polygon(coordinates)\n",
                "    gdf = gpd.GeoDataFrame()\n",
                "    gdf.loc[0,'chip'] = chip_name\n",
                "    gdf.loc[0, 'geometry'] = polygon\n",
                "    gdf.crs = 'epsg:4326'\n",
                "\n",
                "    if crs != 'epsg:4326':\n",
                "        gdf.to_crs(crs, inplace=True)\n",
                "\n",
                "    if path_to_save:\n",
                "        gdf.to_file(path_to_save)\n",
                "    return gdf"
            ]
        },
        {
            "cell_type": "code",
            "execution_count": null,
            "metadata": {
                "colab": {
                    "base_uri": "https://localhost:8080/"
                },
                "executionInfo": {
                    "elapsed": 3,
                    "status": "ok",
                    "timestamp": 1651500742388,
                    "user": {
                        "displayName": "OMAR ANDRES CASTAÑO IDARRAGA",
                        "userId": "02036237685860066032"
                    },
                    "user_tz": 300
                },
                "id": "IkTa-tkMYhmG",
                "outputId": "aa528379-3e50-46bc-9f4b-375c949dd8fd"
            },
            "outputs": [],
            "source": [
                "!git clone https://github.com/omarcastano/elevation_aware_ssl.git"
            ]
        },
        {
            "cell_type": "code",
            "execution_count": null,
            "metadata": {
                "id": "JfnfIXV9GnKx"
            },
            "outputs": [],
            "source": [
                "import geopandas as gpd\n",
                "import pandas as pd\n",
                "from shapely.geometry import Point, Polygon\n",
                "import folium\n",
                "import elevation_aware_ssl.DataPreprocessing as DP"
            ]
        },
        {
            "cell_type": "code",
            "execution_count": null,
            "metadata": {
                "colab": {
                    "base_uri": "https://localhost:8080/"
                },
                "executionInfo": {
                    "elapsed": 2,
                    "status": "ok",
                    "timestamp": 1651500742890,
                    "user": {
                        "displayName": "OMAR ANDRES CASTAÑO IDARRAGA",
                        "userId": "02036237685860066032"
                    },
                    "user_tz": 300
                },
                "id": "HKawcAZwP9jC",
                "outputId": "61f7a811-3f57-419a-9a08-f752143790a5"
            },
            "outputs": [],
            "source": [
                "#Read metadata\n",
                "chip_metadata = pd.read_pickle(chip_path + 'metadata.pkl')\n",
                "chip_metadata"
            ]
        },
        {
            "cell_type": "code",
            "execution_count": null,
            "metadata": {
                "colab": {
                    "base_uri": "https://localhost:8080/"
                },
                "executionInfo": {
                    "elapsed": 1,
                    "status": "ok",
                    "timestamp": 1651500743089,
                    "user": {
                        "displayName": "OMAR ANDRES CASTAÑO IDARRAGA",
                        "userId": "02036237685860066032"
                    },
                    "user_tz": 300
                },
                "id": "WHEJ_wYEVjxI",
                "outputId": "8781a3a3-af46-408f-d7d0-d4dd1cec914d"
            },
            "outputs": [],
            "source": [
                "#Defien coordinates\n",
                "nw = chip_metadata['corners']['nw'][::-1]\n",
                "se = chip_metadata['corners']['se'][::-1]\n",
                "ne = np.array([nw[0],  se[1]])\n",
                "sw = np.array([se[0],  nw[1]])\n",
                "coordinates = [sw, nw, ne, se]\n",
                "coordinates"
            ]
        },
        {
            "cell_type": "code",
            "execution_count": null,
            "metadata": {
                "id": "oXROlhb2gmma"
            },
            "outputs": [],
            "source": [
                "path_to_save = '/content/drive/MyDrive/Colab Notebooks/Maestria Ing/Theses/GeoDataset/Chip/18NTN.shp'\n",
                "chip_metadata_path = chip_path + 'metadata.pkl'\n",
                "shapefile = create_shapefiel_from_polygons(chip_metadata_path, chip_name = '18NTN_8_5_(0_200)', path_to_save=path_to_save, crs='epsg:3116')\n",
                "shapefile = gpd.read_file(path_to_save)"
            ]
        },
        {
            "cell_type": "code",
            "execution_count": null,
            "metadata": {
                "colab": {
                    "base_uri": "https://localhost:8080/",
                    "height": 293
                },
                "executionInfo": {
                    "elapsed": 598,
                    "status": "ok",
                    "timestamp": 1651500746654,
                    "user": {
                        "displayName": "OMAR ANDRES CASTAÑO IDARRAGA",
                        "userId": "02036237685860066032"
                    },
                    "user_tz": 300
                },
                "id": "SFxi6dKJP-Lh",
                "outputId": "58087a83-b796-4dc1-e7fb-b4e5ffa0d8d0"
            },
            "outputs": [],
            "source": [
                "shapefile.plot()"
            ]
        },
        {
            "cell_type": "markdown",
            "metadata": {
                "id": "tWfU7YeL4whZ"
            },
            "source": [
                "# Intersection"
            ]
        },
        {
            "cell_type": "code",
            "execution_count": null,
            "metadata": {
                "id": "itCX0IP_Clx5"
            },
            "outputs": [],
            "source": [
                "def polygons_intersection(shapefile1, shapefile2, chip_name=None, group_by='elemento' ,path_to_save=None , crs=None):\n",
                "\n",
                "    \"\"\"\n",
                "    Functon that conputes the intesection between polygons stored in shapefiles.\n",
                "    shapefile1: string or geo pandas dataframe\n",
                "        either the path to the folder where a shapefile is stored or\n",
                "        a geopandas dataframe with the polygons. Here you must provide \n",
                "        the \"Fronteer\".\n",
                "    shapefile2: string or geo pandas dataframe\n",
                "        either the path to the folder where a shapefile is stored or\n",
                "        a geopandas dataframe with the polygons. Here you must provide the \n",
                "        squared polygons.\n",
                "    chip_name: string:\n",
                "        unique id for each chip.\n",
                "    group_by: string.\n",
                "        column name from the attribute table of shapefiel1 which will be used to create \n",
                "        class labels.\n",
                "    path_to_save: string, optional (default=None)\n",
                "        path to the folder where the shapefile which contains the \n",
                "        intersection will be stored\n",
                "    crs: string, optional (default=None)\n",
                "        Projection for the output shapefile. If None the output projection\n",
                "        will be the same of input shapefiles.\n",
                "    \"\"\"\n",
                "\n",
                "    if type(shapefile1) == str:\n",
                "        shapefile1 = gpd.read_file(shapefile1)\n",
                "\n",
                "    if type(shapefile2) == str:\n",
                "        shapefile2 = gpd.read_file(shapefile2)\n",
                "\n",
                "    unique_labels = shapefile1[group_by].unique()\n",
                "    unique_labels.sort()\n",
                "    \n",
                "    label_num = np.arange(len(unique_labels))\n",
                "\n",
                "\n",
                "    chip_references=[]\n",
                "    geometry = []\n",
                "    labels = []\n",
                "    for label in unique_labels:\n",
                "        data = []\n",
                "        chip_references.append(chip_name)\n",
                "        sipra_mask = shapefile1.loc[shapefile1[group_by] == label, :]\n",
                "        for indx1, info1 in sipra_mask.iterrows():\n",
                "            for indx2, info2 in shapefile2.iterrows():\n",
                "                inter = info2['geometry'].intersection(info1['geometry'])\n",
                "                data.append([inter])\n",
                "\n",
                "\n",
                "        intersection = gpd.GeoDataFrame(data, columns=['geometry'], crs = shapefile1.crs)\n",
                "        intersection = gpd.GeoDataFrame(intersection.dissolve(), columns=['geometry'], crs = shapefile1.crs)\n",
                "\n",
                "        labels.append(label)\n",
                "        geometry.append(intersection.geometry.values[0])\n",
                "\n",
                "    \n",
                "    intersection = gpd.GeoDataFrame({\"chip_name\":chip_references,\"labels\":labels,\"labels_num\":label_num ,\"geometry\":geometry}, crs = shapefile1.crs)\n",
                "\n",
                "    if (crs != shapefile1.crs) & (crs != None):\n",
                "        intersection.to_crs(crs, inplace=True)\n",
                "\n",
                "    if path_to_save:\n",
                "        intersection.to_file(path_to_save)\n",
                "\n",
                "    return intersection"
            ]
        },
        {
            "cell_type": "code",
            "execution_count": null,
            "metadata": {
                "id": "V-cZi1t2lR8c"
            },
            "outputs": [],
            "source": [
                "#Read dataset\n",
                "path_to_shp = '/content/drive/MyDrive/Colab Notebooks/Maestria Ing/Theses/Frontera_Agricola_Nov2021/Frontera_Agricola_Nov2021.shp'\n",
                "path_to_shp = '/content/drive/MyDrive/Colab Notebooks/Maestria Ing/Theses/GeoDataset/Frontera_Agricola_Prueba/Frontera_Agricola_Prueba.shp'\n",
                "dataset = gpd.read_file(path_to_shp)"
            ]
        },
        {
            "cell_type": "code",
            "execution_count": null,
            "metadata": {
                "colab": {
                    "base_uri": "https://localhost:8080/",
                    "height": 206
                },
                "executionInfo": {
                    "elapsed": 292,
                    "status": "ok",
                    "timestamp": 1651500749472,
                    "user": {
                        "displayName": "OMAR ANDRES CASTAÑO IDARRAGA",
                        "userId": "02036237685860066032"
                    },
                    "user_tz": 300
                },
                "id": "erYLXpMrl4Sx",
                "outputId": "8838078b-2337-45b7-eaff-f92fe367f31d"
            },
            "outputs": [],
            "source": [
                "#show dataset\n",
                "dataset.head()"
            ]
        },
        {
            "cell_type": "code",
            "execution_count": null,
            "metadata": {
                "id": "eE8BZW1gmAm0"
            },
            "outputs": [],
            "source": [
                "#unique classes\n",
                "#dataset.elemento.unique()"
            ]
        },
        {
            "cell_type": "code",
            "execution_count": null,
            "metadata": {
                "colab": {
                    "base_uri": "https://localhost:8080/",
                    "height": 619
                },
                "executionInfo": {
                    "elapsed": 720,
                    "status": "ok",
                    "timestamp": 1651500751363,
                    "user": {
                        "displayName": "OMAR ANDRES CASTAÑO IDARRAGA",
                        "userId": "02036237685860066032"
                    },
                    "user_tz": 300
                },
                "id": "sRZt0tVW3C_9",
                "outputId": "8dd7e76b-e82d-4fe6-cb7d-5720cf9baca5"
            },
            "outputs": [],
            "source": [
                "dataset.plot(figsize=(15,10))"
            ]
        },
        {
            "cell_type": "code",
            "execution_count": null,
            "metadata": {
                "colab": {
                    "base_uri": "https://localhost:8080/"
                },
                "executionInfo": {
                    "elapsed": 225,
                    "status": "ok",
                    "timestamp": 1651500752895,
                    "user": {
                        "displayName": "OMAR ANDRES CASTAÑO IDARRAGA",
                        "userId": "02036237685860066032"
                    },
                    "user_tz": 300
                },
                "id": "ASA_y059p3EY",
                "outputId": "46ad1af6-a08d-42f0-c0f4-013cf13c49ee"
            },
            "outputs": [],
            "source": [
                "#projection\n",
                "dataset.crs"
            ]
        },
        {
            "cell_type": "code",
            "execution_count": null,
            "metadata": {
                "id": "jkShzc0W1QSX"
            },
            "outputs": [],
            "source": [
                "#dataset.to_crs('epsg:4326', inplace=True)\n",
                "#dataset.crs"
            ]
        },
        {
            "cell_type": "code",
            "execution_count": null,
            "metadata": {
                "colab": {
                    "base_uri": "https://localhost:8080/",
                    "height": 293
                },
                "executionInfo": {
                    "elapsed": 482,
                    "status": "ok",
                    "timestamp": 1651500754659,
                    "user": {
                        "displayName": "OMAR ANDRES CASTAÑO IDARRAGA",
                        "userId": "02036237685860066032"
                    },
                    "user_tz": 300
                },
                "id": "03W5C9ZjBTAt",
                "outputId": "12d55362-edf7-475a-ad30-74d56fa00e4c"
            },
            "outputs": [],
            "source": [
                "shapefile.plot()"
            ]
        },
        {
            "cell_type": "code",
            "execution_count": null,
            "metadata": {
                "colab": {
                    "base_uri": "https://localhost:8080/",
                    "height": 424
                },
                "executionInfo": {
                    "elapsed": 184,
                    "status": "ok",
                    "timestamp": 1651500754841,
                    "user": {
                        "displayName": "OMAR ANDRES CASTAÑO IDARRAGA",
                        "userId": "02036237685860066032"
                    },
                    "user_tz": 300
                },
                "id": "uWpiZsFDBT4z",
                "outputId": "60c25413-78ab-4d0f-d181-4ef13b6beb8a"
            },
            "outputs": [],
            "source": [
                "dataset"
            ]
        },
        {
            "cell_type": "code",
            "execution_count": null,
            "metadata": {
                "colab": {
                    "base_uri": "https://localhost:8080/",
                    "height": 143
                },
                "executionInfo": {
                    "elapsed": 639,
                    "status": "ok",
                    "timestamp": 1651500757524,
                    "user": {
                        "displayName": "OMAR ANDRES CASTAÑO IDARRAGA",
                        "userId": "02036237685860066032"
                    },
                    "user_tz": 300
                },
                "id": "UHUlVLxDFcjv",
                "outputId": "d0bc9ec0-6c70-4078-c51a-dc154ee5bdec"
            },
            "outputs": [],
            "source": [
                "path_to_save = '/content/drive/MyDrive/Colab Notebooks/Maestria Ing/Theses/GeoDataset/Intersection/Intersection.shp'\n",
                "path_shapefiel1 = '/content/drive/MyDrive/Colab Notebooks/Maestria Ing/Theses/GeoDataset/Frontera_Agricola_Prueba/Frontera_Agricola_Prueba.shp'\n",
                "path_shapefiel2 = '/content/drive/MyDrive/Colab Notebooks/Maestria Ing/Theses/GeoDataset/Chip/18NTN.shp'\n",
                "intersection = polygons_intersection(path_shapefiel1, path_shapefiel2, \"chip\", crs='epsg:3116')\n",
                "intersection"
            ]
        },
        {
            "cell_type": "code",
            "execution_count": null,
            "metadata": {
                "colab": {
                    "base_uri": "https://localhost:8080/",
                    "height": 311
                },
                "executionInfo": {
                    "elapsed": 389,
                    "status": "ok",
                    "timestamp": 1651500757912,
                    "user": {
                        "displayName": "OMAR ANDRES CASTAÑO IDARRAGA",
                        "userId": "02036237685860066032"
                    },
                    "user_tz": 300
                },
                "id": "ZDaOf-SbhkDL",
                "outputId": "bb4b2f6e-f247-4b94-8c74-0e5856cb4d9e"
            },
            "outputs": [],
            "source": [
                "print(intersection.crs)\n",
                "intersection.plot()"
            ]
        },
        {
            "cell_type": "markdown",
            "metadata": {
                "id": "ev1pbnKP_Ofc"
            },
            "source": [
                "# Create GeoTiff from Numpy array"
            ]
        },
        {
            "cell_type": "code",
            "execution_count": null,
            "metadata": {
                "id": "OJ9JvYqRE0Tk"
            },
            "outputs": [],
            "source": [
                "#Import libraries\n",
                "from osgeo import osr, gdal, ogr"
            ]
        },
        {
            "cell_type": "code",
            "execution_count": null,
            "metadata": {
                "colab": {
                    "base_uri": "https://localhost:8080/"
                },
                "executionInfo": {
                    "elapsed": 22,
                    "status": "ok",
                    "timestamp": 1650297689704,
                    "user": {
                        "displayName": "OMAR ANDRES CASTAÑO IDARRAGA",
                        "userId": "02036237685860066032"
                    },
                    "user_tz": 300
                },
                "id": "tpQ6N8kL_N03",
                "outputId": "029853f1-0319-41ad-aadb-29ed7eb2fbc9"
            },
            "outputs": [],
            "source": [
                "#image\n",
                "one_chip.shape"
            ]
        },
        {
            "cell_type": "code",
            "execution_count": null,
            "metadata": {
                "colab": {
                    "base_uri": "https://localhost:8080/"
                },
                "executionInfo": {
                    "elapsed": 19,
                    "status": "ok",
                    "timestamp": 1650297689706,
                    "user": {
                        "displayName": "OMAR ANDRES CASTAÑO IDARRAGA",
                        "userId": "02036237685860066032"
                    },
                    "user_tz": 300
                },
                "id": "8xjcx4vX_buM",
                "outputId": "62bdddb1-ca18-4bff-d674-f5e603f056e6"
            },
            "outputs": [],
            "source": [
                "#Metadata\n",
                "chip_metadata"
            ]
        },
        {
            "cell_type": "code",
            "execution_count": null,
            "metadata": {
                "id": "u18pkciJE08X"
            },
            "outputs": [],
            "source": [
                "path_to_save = '/content/drive/MyDrive/Colab Notebooks/Maestria Ing/Theses/GeoDataset/GeoTiff/raster.tif'\n",
                "array = one_chip[0:3]\n",
                "DP.from_array_to_geotiff(path_to_save, array, chip_metadata)"
            ]
        },
        {
            "cell_type": "code",
            "execution_count": null,
            "metadata": {
                "colab": {
                    "base_uri": "https://localhost:8080/"
                },
                "executionInfo": {
                    "elapsed": 331,
                    "status": "ok",
                    "timestamp": 1650297690022,
                    "user": {
                        "displayName": "OMAR ANDRES CASTAÑO IDARRAGA",
                        "userId": "02036237685860066032"
                    },
                    "user_tz": 300
                },
                "id": "_b2kbOunT0HK",
                "outputId": "6729ad4c-34c8-4139-bf48-8a09394a3050"
            },
            "outputs": [],
            "source": [
                "#open geotiff image\n",
                "raster_image = gdal.Open(path_to_save)\n",
                "gt = raster_image.GetGeoTransform()\n",
                "gt"
            ]
        },
        {
            "cell_type": "code",
            "execution_count": null,
            "metadata": {
                "colab": {
                    "base_uri": "https://localhost:8080/",
                    "height": 70
                },
                "executionInfo": {
                    "elapsed": 26,
                    "status": "ok",
                    "timestamp": 1650297690023,
                    "user": {
                        "displayName": "OMAR ANDRES CASTAÑO IDARRAGA",
                        "userId": "02036237685860066032"
                    },
                    "user_tz": 300
                },
                "id": "_7d4obTAbr-i",
                "outputId": "bd878b08-4cc6-4a5a-dac7-448e7be06530"
            },
            "outputs": [],
            "source": [
                "raster_image.GetProjection()"
            ]
        },
        {
            "cell_type": "code",
            "execution_count": null,
            "metadata": {
                "colab": {
                    "base_uri": "https://localhost:8080/",
                    "height": 432
                },
                "executionInfo": {
                    "elapsed": 27,
                    "status": "ok",
                    "timestamp": 1650297690027,
                    "user": {
                        "displayName": "OMAR ANDRES CASTAÑO IDARRAGA",
                        "userId": "02036237685860066032"
                    },
                    "user_tz": 300
                },
                "id": "OYJP0tdWTz8w",
                "outputId": "ac59a089-29c1-4af5-9496-aa2a9ecbaa8c"
            },
            "outputs": [],
            "source": [
                "#open geotiff image\n",
                "raster_image = gdal.Open(path_to_save).ReadAsArray()\n",
                "raster_image.shape\n",
                "ep.plot_rgb(raster_image, rgb=(0,1,2), stretch=True, str_clip=0.5, figsize=(7, 7))"
            ]
        },
        {
            "cell_type": "code",
            "execution_count": null,
            "metadata": {
                "id": "cBtx6bKiynPa"
            },
            "outputs": [],
            "source": []
        }
    ],
    "metadata": {
        "colab": {
            "authorship_tag": "ABX9TyODB/UyghGHQ0SaJz62pwC0",
            "collapsed_sections": [
                "fc9MhPBzVZw4",
                "DilOTqJVF3Sn",
                "xa5gIG7wF6XS"
            ],
            "mount_file_id": "1hYGKrCx2OgQzT3kb0DOX32AJB2_1s4a7",
            "name": "DataSet_Colombia.ipynb",
            "provenance": []
        },
        "kernelspec": {
            "display_name": "elevation_aware_ssl",
            "language": "python",
            "name": "python3"
        },
        "language_info": {
            "codemirror_mode": {
                "name": "ipython",
                "version": 3
            },
            "file_extension": ".py",
            "mimetype": "text/x-python",
            "name": "python",
            "nbconvert_exporter": "python",
            "pygments_lexer": "ipython3",
            "version": "3.7.13"
        },
        "vscode": {
            "interpreter": {
                "hash": "81ba9a1503424c443a7bc1e1bbe8d83e046e09a72ec9317cd76d572ac910684c"
            }
        }
    },
    "nbformat": 4,
    "nbformat_minor": 0
}
